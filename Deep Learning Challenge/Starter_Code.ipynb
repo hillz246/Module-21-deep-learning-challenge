{
 "cells": [
  {
   "cell_type": "markdown",
   "metadata": {
    "id": "9z2fKamYNXwt"
   },
   "source": [
    "## Preprocessing"
   ]
  },
  {
   "cell_type": "code",
   "execution_count": 1,
   "metadata": {
    "colab": {
     "base_uri": "https://localhost:8080/",
     "height": 452
    },
    "executionInfo": {
     "elapsed": 7543,
     "status": "ok",
     "timestamp": 1738295119945,
     "user": {
      "displayName": "prachi patel",
      "userId": "09080171170039159407"
     },
     "user_tz": 300
    },
    "id": "vw-Rd8gtNXwu",
    "outputId": "4dc3c40f-a09f-4445-886d-f770a061702a"
   },
   "outputs": [
    {
     "data": {
      "text/html": [
       "<div>\n",
       "<style scoped>\n",
       "    .dataframe tbody tr th:only-of-type {\n",
       "        vertical-align: middle;\n",
       "    }\n",
       "\n",
       "    .dataframe tbody tr th {\n",
       "        vertical-align: top;\n",
       "    }\n",
       "\n",
       "    .dataframe thead th {\n",
       "        text-align: right;\n",
       "    }\n",
       "</style>\n",
       "<table border=\"1\" class=\"dataframe\">\n",
       "  <thead>\n",
       "    <tr style=\"text-align: right;\">\n",
       "      <th></th>\n",
       "      <th>EIN</th>\n",
       "      <th>NAME</th>\n",
       "      <th>APPLICATION_TYPE</th>\n",
       "      <th>AFFILIATION</th>\n",
       "      <th>CLASSIFICATION</th>\n",
       "      <th>USE_CASE</th>\n",
       "      <th>ORGANIZATION</th>\n",
       "      <th>STATUS</th>\n",
       "      <th>INCOME_AMT</th>\n",
       "      <th>SPECIAL_CONSIDERATIONS</th>\n",
       "      <th>ASK_AMT</th>\n",
       "      <th>IS_SUCCESSFUL</th>\n",
       "    </tr>\n",
       "  </thead>\n",
       "  <tbody>\n",
       "    <tr>\n",
       "      <th>0</th>\n",
       "      <td>10520599</td>\n",
       "      <td>BLUE KNIGHTS MOTORCYCLE CLUB</td>\n",
       "      <td>T10</td>\n",
       "      <td>Independent</td>\n",
       "      <td>C1000</td>\n",
       "      <td>ProductDev</td>\n",
       "      <td>Association</td>\n",
       "      <td>1</td>\n",
       "      <td>0</td>\n",
       "      <td>N</td>\n",
       "      <td>5000</td>\n",
       "      <td>1</td>\n",
       "    </tr>\n",
       "    <tr>\n",
       "      <th>1</th>\n",
       "      <td>10531628</td>\n",
       "      <td>AMERICAN CHESAPEAKE CLUB CHARITABLE TR</td>\n",
       "      <td>T3</td>\n",
       "      <td>Independent</td>\n",
       "      <td>C2000</td>\n",
       "      <td>Preservation</td>\n",
       "      <td>Co-operative</td>\n",
       "      <td>1</td>\n",
       "      <td>1-9999</td>\n",
       "      <td>N</td>\n",
       "      <td>108590</td>\n",
       "      <td>1</td>\n",
       "    </tr>\n",
       "    <tr>\n",
       "      <th>2</th>\n",
       "      <td>10547893</td>\n",
       "      <td>ST CLOUD PROFESSIONAL FIREFIGHTERS</td>\n",
       "      <td>T5</td>\n",
       "      <td>CompanySponsored</td>\n",
       "      <td>C3000</td>\n",
       "      <td>ProductDev</td>\n",
       "      <td>Association</td>\n",
       "      <td>1</td>\n",
       "      <td>0</td>\n",
       "      <td>N</td>\n",
       "      <td>5000</td>\n",
       "      <td>0</td>\n",
       "    </tr>\n",
       "    <tr>\n",
       "      <th>3</th>\n",
       "      <td>10553066</td>\n",
       "      <td>SOUTHSIDE ATHLETIC ASSOCIATION</td>\n",
       "      <td>T3</td>\n",
       "      <td>CompanySponsored</td>\n",
       "      <td>C2000</td>\n",
       "      <td>Preservation</td>\n",
       "      <td>Trust</td>\n",
       "      <td>1</td>\n",
       "      <td>10000-24999</td>\n",
       "      <td>N</td>\n",
       "      <td>6692</td>\n",
       "      <td>1</td>\n",
       "    </tr>\n",
       "    <tr>\n",
       "      <th>4</th>\n",
       "      <td>10556103</td>\n",
       "      <td>GENETIC RESEARCH INSTITUTE OF THE DESERT</td>\n",
       "      <td>T3</td>\n",
       "      <td>Independent</td>\n",
       "      <td>C1000</td>\n",
       "      <td>Heathcare</td>\n",
       "      <td>Trust</td>\n",
       "      <td>1</td>\n",
       "      <td>100000-499999</td>\n",
       "      <td>N</td>\n",
       "      <td>142590</td>\n",
       "      <td>1</td>\n",
       "    </tr>\n",
       "  </tbody>\n",
       "</table>\n",
       "</div>"
      ],
      "text/plain": [
       "        EIN                                      NAME APPLICATION_TYPE  \\\n",
       "0  10520599              BLUE KNIGHTS MOTORCYCLE CLUB              T10   \n",
       "1  10531628    AMERICAN CHESAPEAKE CLUB CHARITABLE TR               T3   \n",
       "2  10547893        ST CLOUD PROFESSIONAL FIREFIGHTERS               T5   \n",
       "3  10553066            SOUTHSIDE ATHLETIC ASSOCIATION               T3   \n",
       "4  10556103  GENETIC RESEARCH INSTITUTE OF THE DESERT               T3   \n",
       "\n",
       "        AFFILIATION CLASSIFICATION      USE_CASE  ORGANIZATION  STATUS  \\\n",
       "0       Independent          C1000    ProductDev   Association       1   \n",
       "1       Independent          C2000  Preservation  Co-operative       1   \n",
       "2  CompanySponsored          C3000    ProductDev   Association       1   \n",
       "3  CompanySponsored          C2000  Preservation         Trust       1   \n",
       "4       Independent          C1000     Heathcare         Trust       1   \n",
       "\n",
       "      INCOME_AMT SPECIAL_CONSIDERATIONS  ASK_AMT  IS_SUCCESSFUL  \n",
       "0              0                      N     5000              1  \n",
       "1         1-9999                      N   108590              1  \n",
       "2              0                      N     5000              0  \n",
       "3    10000-24999                      N     6692              1  \n",
       "4  100000-499999                      N   142590              1  "
      ]
     },
     "execution_count": 1,
     "metadata": {},
     "output_type": "execute_result"
    }
   ],
   "source": [
    "# Import our dependencies\n",
    "from sklearn.model_selection import train_test_split\n",
    "from sklearn.preprocessing import StandardScaler\n",
    "import pandas as pd\n",
    "import tensorflow as tf\n",
    "import numpy as np\n",
    "\n",
    "# Import pandas and read the charity_data.csv from the provided cloud URL.\n",
    "import pandas as pd\n",
    "application_df = pd.read_csv(\"https://static.bc-edx.com/data/dl-1-2/m21/lms/starter/charity_data.csv\")\n",
    "application_df.head()"
   ]
  },
  {
   "cell_type": "code",
   "execution_count": 2,
   "metadata": {
    "colab": {
     "base_uri": "https://localhost:8080/",
     "height": 444
    },
    "executionInfo": {
     "elapsed": 226,
     "status": "ok",
     "timestamp": 1738295125681,
     "user": {
      "displayName": "prachi patel",
      "userId": "09080171170039159407"
     },
     "user_tz": 300
    },
    "id": "Na18t9brNXww",
    "outputId": "2ebbdd4f-bdb7-4786-d5fb-503e8d2c4843"
   },
   "outputs": [
    {
     "data": {
      "text/html": [
       "<div>\n",
       "<style scoped>\n",
       "    .dataframe tbody tr th:only-of-type {\n",
       "        vertical-align: middle;\n",
       "    }\n",
       "\n",
       "    .dataframe tbody tr th {\n",
       "        vertical-align: top;\n",
       "    }\n",
       "\n",
       "    .dataframe thead th {\n",
       "        text-align: right;\n",
       "    }\n",
       "</style>\n",
       "<table border=\"1\" class=\"dataframe\">\n",
       "  <thead>\n",
       "    <tr style=\"text-align: right;\">\n",
       "      <th></th>\n",
       "      <th>APPLICATION_TYPE</th>\n",
       "      <th>AFFILIATION</th>\n",
       "      <th>CLASSIFICATION</th>\n",
       "      <th>USE_CASE</th>\n",
       "      <th>ORGANIZATION</th>\n",
       "      <th>STATUS</th>\n",
       "      <th>INCOME_AMT</th>\n",
       "      <th>SPECIAL_CONSIDERATIONS</th>\n",
       "      <th>ASK_AMT</th>\n",
       "      <th>IS_SUCCESSFUL</th>\n",
       "    </tr>\n",
       "  </thead>\n",
       "  <tbody>\n",
       "    <tr>\n",
       "      <th>0</th>\n",
       "      <td>T10</td>\n",
       "      <td>Independent</td>\n",
       "      <td>C1000</td>\n",
       "      <td>ProductDev</td>\n",
       "      <td>Association</td>\n",
       "      <td>1</td>\n",
       "      <td>0</td>\n",
       "      <td>N</td>\n",
       "      <td>5000</td>\n",
       "      <td>1</td>\n",
       "    </tr>\n",
       "    <tr>\n",
       "      <th>1</th>\n",
       "      <td>T3</td>\n",
       "      <td>Independent</td>\n",
       "      <td>C2000</td>\n",
       "      <td>Preservation</td>\n",
       "      <td>Co-operative</td>\n",
       "      <td>1</td>\n",
       "      <td>1-9999</td>\n",
       "      <td>N</td>\n",
       "      <td>108590</td>\n",
       "      <td>1</td>\n",
       "    </tr>\n",
       "    <tr>\n",
       "      <th>2</th>\n",
       "      <td>T5</td>\n",
       "      <td>CompanySponsored</td>\n",
       "      <td>C3000</td>\n",
       "      <td>ProductDev</td>\n",
       "      <td>Association</td>\n",
       "      <td>1</td>\n",
       "      <td>0</td>\n",
       "      <td>N</td>\n",
       "      <td>5000</td>\n",
       "      <td>0</td>\n",
       "    </tr>\n",
       "    <tr>\n",
       "      <th>3</th>\n",
       "      <td>T3</td>\n",
       "      <td>CompanySponsored</td>\n",
       "      <td>C2000</td>\n",
       "      <td>Preservation</td>\n",
       "      <td>Trust</td>\n",
       "      <td>1</td>\n",
       "      <td>10000-24999</td>\n",
       "      <td>N</td>\n",
       "      <td>6692</td>\n",
       "      <td>1</td>\n",
       "    </tr>\n",
       "    <tr>\n",
       "      <th>4</th>\n",
       "      <td>T3</td>\n",
       "      <td>Independent</td>\n",
       "      <td>C1000</td>\n",
       "      <td>Heathcare</td>\n",
       "      <td>Trust</td>\n",
       "      <td>1</td>\n",
       "      <td>100000-499999</td>\n",
       "      <td>N</td>\n",
       "      <td>142590</td>\n",
       "      <td>1</td>\n",
       "    </tr>\n",
       "    <tr>\n",
       "      <th>...</th>\n",
       "      <td>...</td>\n",
       "      <td>...</td>\n",
       "      <td>...</td>\n",
       "      <td>...</td>\n",
       "      <td>...</td>\n",
       "      <td>...</td>\n",
       "      <td>...</td>\n",
       "      <td>...</td>\n",
       "      <td>...</td>\n",
       "      <td>...</td>\n",
       "    </tr>\n",
       "    <tr>\n",
       "      <th>34294</th>\n",
       "      <td>T4</td>\n",
       "      <td>Independent</td>\n",
       "      <td>C1000</td>\n",
       "      <td>ProductDev</td>\n",
       "      <td>Association</td>\n",
       "      <td>1</td>\n",
       "      <td>0</td>\n",
       "      <td>N</td>\n",
       "      <td>5000</td>\n",
       "      <td>0</td>\n",
       "    </tr>\n",
       "    <tr>\n",
       "      <th>34295</th>\n",
       "      <td>T4</td>\n",
       "      <td>CompanySponsored</td>\n",
       "      <td>C3000</td>\n",
       "      <td>ProductDev</td>\n",
       "      <td>Association</td>\n",
       "      <td>1</td>\n",
       "      <td>0</td>\n",
       "      <td>N</td>\n",
       "      <td>5000</td>\n",
       "      <td>0</td>\n",
       "    </tr>\n",
       "    <tr>\n",
       "      <th>34296</th>\n",
       "      <td>T3</td>\n",
       "      <td>CompanySponsored</td>\n",
       "      <td>C2000</td>\n",
       "      <td>Preservation</td>\n",
       "      <td>Association</td>\n",
       "      <td>1</td>\n",
       "      <td>0</td>\n",
       "      <td>N</td>\n",
       "      <td>5000</td>\n",
       "      <td>0</td>\n",
       "    </tr>\n",
       "    <tr>\n",
       "      <th>34297</th>\n",
       "      <td>T5</td>\n",
       "      <td>Independent</td>\n",
       "      <td>C3000</td>\n",
       "      <td>ProductDev</td>\n",
       "      <td>Association</td>\n",
       "      <td>1</td>\n",
       "      <td>0</td>\n",
       "      <td>N</td>\n",
       "      <td>5000</td>\n",
       "      <td>1</td>\n",
       "    </tr>\n",
       "    <tr>\n",
       "      <th>34298</th>\n",
       "      <td>T3</td>\n",
       "      <td>Independent</td>\n",
       "      <td>C1000</td>\n",
       "      <td>Preservation</td>\n",
       "      <td>Co-operative</td>\n",
       "      <td>1</td>\n",
       "      <td>1M-5M</td>\n",
       "      <td>N</td>\n",
       "      <td>36500179</td>\n",
       "      <td>0</td>\n",
       "    </tr>\n",
       "  </tbody>\n",
       "</table>\n",
       "<p>34299 rows × 10 columns</p>\n",
       "</div>"
      ],
      "text/plain": [
       "      APPLICATION_TYPE       AFFILIATION CLASSIFICATION      USE_CASE  \\\n",
       "0                  T10       Independent          C1000    ProductDev   \n",
       "1                   T3       Independent          C2000  Preservation   \n",
       "2                   T5  CompanySponsored          C3000    ProductDev   \n",
       "3                   T3  CompanySponsored          C2000  Preservation   \n",
       "4                   T3       Independent          C1000     Heathcare   \n",
       "...                ...               ...            ...           ...   \n",
       "34294               T4       Independent          C1000    ProductDev   \n",
       "34295               T4  CompanySponsored          C3000    ProductDev   \n",
       "34296               T3  CompanySponsored          C2000  Preservation   \n",
       "34297               T5       Independent          C3000    ProductDev   \n",
       "34298               T3       Independent          C1000  Preservation   \n",
       "\n",
       "       ORGANIZATION  STATUS     INCOME_AMT SPECIAL_CONSIDERATIONS   ASK_AMT  \\\n",
       "0       Association       1              0                      N      5000   \n",
       "1      Co-operative       1         1-9999                      N    108590   \n",
       "2       Association       1              0                      N      5000   \n",
       "3             Trust       1    10000-24999                      N      6692   \n",
       "4             Trust       1  100000-499999                      N    142590   \n",
       "...             ...     ...            ...                    ...       ...   \n",
       "34294   Association       1              0                      N      5000   \n",
       "34295   Association       1              0                      N      5000   \n",
       "34296   Association       1              0                      N      5000   \n",
       "34297   Association       1              0                      N      5000   \n",
       "34298  Co-operative       1          1M-5M                      N  36500179   \n",
       "\n",
       "       IS_SUCCESSFUL  \n",
       "0                  1  \n",
       "1                  1  \n",
       "2                  0  \n",
       "3                  1  \n",
       "4                  1  \n",
       "...              ...  \n",
       "34294              0  \n",
       "34295              0  \n",
       "34296              0  \n",
       "34297              1  \n",
       "34298              0  \n",
       "\n",
       "[34299 rows x 10 columns]"
      ]
     },
     "execution_count": 2,
     "metadata": {},
     "output_type": "execute_result"
    }
   ],
   "source": [
    "# Drop the non-beneficial ID columns, 'EIN' and 'NAME'.\n",
    "application_df.drop(['EIN','NAME'], axis=1, inplace=True)\n",
    "application_df"
   ]
  },
  {
   "cell_type": "markdown",
   "metadata": {
    "id": "7RqFFYCkdspm"
   },
   "source": [
    "Target variable = IS_SUCCESSFUL -- 1 is considered yes (successful) and 0 is considered no (not successful)\n",
    "\n",
    "Features = there are 9 features - all the other columns"
   ]
  },
  {
   "cell_type": "code",
   "execution_count": 3,
   "metadata": {
    "colab": {
     "base_uri": "https://localhost:8080/",
     "height": 398
    },
    "executionInfo": {
     "elapsed": 134,
     "status": "ok",
     "timestamp": 1738295160398,
     "user": {
      "displayName": "prachi patel",
      "userId": "09080171170039159407"
     },
     "user_tz": 300
    },
    "id": "LRkGCnLGNXwx",
    "outputId": "d2189d01-eb13-48d6-9fc6-171a399076d7"
   },
   "outputs": [
    {
     "data": {
      "text/plain": [
       "APPLICATION_TYPE            17\n",
       "AFFILIATION                  6\n",
       "CLASSIFICATION              71\n",
       "USE_CASE                     5\n",
       "ORGANIZATION                 4\n",
       "STATUS                       2\n",
       "INCOME_AMT                   9\n",
       "SPECIAL_CONSIDERATIONS       2\n",
       "ASK_AMT                   8747\n",
       "IS_SUCCESSFUL                2\n",
       "dtype: int64"
      ]
     },
     "execution_count": 3,
     "metadata": {},
     "output_type": "execute_result"
    }
   ],
   "source": [
    "# Determine the number of unique values in each column.\n",
    "application_cat = application_df.dtypes.index.tolist()\n",
    "application_df[application_cat].nunique()"
   ]
  },
  {
   "cell_type": "code",
   "execution_count": 4,
   "metadata": {
    "colab": {
     "base_uri": "https://localhost:8080/",
     "height": 649
    },
    "executionInfo": {
     "elapsed": 113,
     "status": "ok",
     "timestamp": 1738295204996,
     "user": {
      "displayName": "prachi patel",
      "userId": "09080171170039159407"
     },
     "user_tz": 300
    },
    "id": "XGtbyPjzNXwy",
    "outputId": "335b8e33-6c52-4c7f-c389-c4a3c82fd61f"
   },
   "outputs": [
    {
     "data": {
      "text/plain": [
       "APPLICATION_TYPE\n",
       "T3     27037\n",
       "T4      1542\n",
       "T6      1216\n",
       "T5      1173\n",
       "T19     1065\n",
       "T8       737\n",
       "T7       725\n",
       "T10      528\n",
       "T9       156\n",
       "T13       66\n",
       "T12       27\n",
       "T2        16\n",
       "T25        3\n",
       "T14        3\n",
       "T29        2\n",
       "T15        2\n",
       "T17        1\n",
       "Name: count, dtype: int64"
      ]
     },
     "execution_count": 4,
     "metadata": {},
     "output_type": "execute_result"
    }
   ],
   "source": [
    "# Look at APPLICATION_TYPE value counts to identify and replace with \"Other\"\n",
    "application_type_count = application_df['APPLICATION_TYPE'].value_counts()\n",
    "application_type_count"
   ]
  },
  {
   "cell_type": "code",
   "execution_count": 5,
   "metadata": {
    "colab": {
     "base_uri": "https://localhost:8080/",
     "height": 366
    },
    "executionInfo": {
     "elapsed": 101,
     "status": "ok",
     "timestamp": 1738295208602,
     "user": {
      "displayName": "prachi patel",
      "userId": "09080171170039159407"
     },
     "user_tz": 300
    },
    "id": "cy2ysVpXNXwy",
    "outputId": "64f5ac94-982e-421f-c3a3-35984e0b5265"
   },
   "outputs": [
    {
     "data": {
      "text/plain": [
       "APPLICATION_TYPE\n",
       "T3       27037\n",
       "T4        1542\n",
       "T6        1216\n",
       "T5        1173\n",
       "T19       1065\n",
       "Other      804\n",
       "T8         737\n",
       "T7         725\n",
       "Name: count, dtype: int64"
      ]
     },
     "execution_count": 5,
     "metadata": {},
     "output_type": "execute_result"
    }
   ],
   "source": [
    "# Choose a cutoff value and create a list of application types to be replaced\n",
    "# use the variable name `application_types_to_replace`\n",
    "application_types_to_replace = list(application_type_count[application_type_count < 600].index)\n",
    "\n",
    "# Replace in dataframe\n",
    "for app in application_types_to_replace:\n",
    "    application_df['APPLICATION_TYPE'] = application_df['APPLICATION_TYPE'].replace(app,\"Other\")\n",
    "\n",
    "# Check to make sure replacement was successful\n",
    "application_df['APPLICATION_TYPE'].value_counts()"
   ]
  },
  {
   "cell_type": "code",
   "execution_count": 6,
   "metadata": {
    "colab": {
     "base_uri": "https://localhost:8080/",
     "height": 490
    },
    "executionInfo": {
     "elapsed": 105,
     "status": "ok",
     "timestamp": 1738295213439,
     "user": {
      "displayName": "prachi patel",
      "userId": "09080171170039159407"
     },
     "user_tz": 300
    },
    "id": "KCdU1DQaNXwz",
    "outputId": "aa0ecfe5-6d61-4643-e0c5-7a2adda33d16"
   },
   "outputs": [
    {
     "data": {
      "text/plain": [
       "CLASSIFICATION\n",
       "C1000    17326\n",
       "C2000     6074\n",
       "C1200     4837\n",
       "C3000     1918\n",
       "C2100     1883\n",
       "         ...  \n",
       "C4120        1\n",
       "C8210        1\n",
       "C2561        1\n",
       "C4500        1\n",
       "C2150        1\n",
       "Name: count, Length: 71, dtype: int64"
      ]
     },
     "execution_count": 6,
     "metadata": {},
     "output_type": "execute_result"
    }
   ],
   "source": [
    "# Look at CLASSIFICATION value counts to identify and replace with \"Other\"\n",
    "class_count = application_df['CLASSIFICATION'].value_counts()\n",
    "class_count"
   ]
  },
  {
   "cell_type": "code",
   "execution_count": 7,
   "metadata": {
    "colab": {
     "base_uri": "https://localhost:8080/",
     "height": 490
    },
    "executionInfo": {
     "elapsed": 132,
     "status": "ok",
     "timestamp": 1738295244858,
     "user": {
      "displayName": "prachi patel",
      "userId": "09080171170039159407"
     },
     "user_tz": 300
    },
    "id": "-ECddzXRNXwz",
    "outputId": "306e41f4-6fe9-4108-ed2e-81b0d4d7769a"
   },
   "outputs": [
    {
     "data": {
      "text/plain": [
       "CLASSIFICATION\n",
       "C1000    17326\n",
       "C2000     6074\n",
       "C1200     4837\n",
       "C3000     1918\n",
       "C2100     1883\n",
       "         ...  \n",
       "C4120        1\n",
       "C8210        1\n",
       "C2561        1\n",
       "C4500        1\n",
       "C2150        1\n",
       "Name: count, Length: 71, dtype: int64"
      ]
     },
     "execution_count": 7,
     "metadata": {},
     "output_type": "execute_result"
    }
   ],
   "source": [
    "# You may find it helpful to look at CLASSIFICATION value counts >1\n",
    "application_df['CLASSIFICATION'].value_counts()"
   ]
  },
  {
   "cell_type": "code",
   "execution_count": 8,
   "metadata": {
    "colab": {
     "base_uri": "https://localhost:8080/",
     "height": 335
    },
    "executionInfo": {
     "elapsed": 1950,
     "status": "ok",
     "timestamp": 1738295249345,
     "user": {
      "displayName": "prachi patel",
      "userId": "09080171170039159407"
     },
     "user_tz": 300
    },
    "id": "jLCxUwvCNXw0",
    "outputId": "74c2fcf3-3f40-4b9f-ecc6-16cf5848ab3e"
   },
   "outputs": [
    {
     "data": {
      "text/plain": [
       "CLASSIFICATION\n",
       "C1000    17326\n",
       "C2000     6074\n",
       "C1200     4837\n",
       "C3000     1918\n",
       "C2100     1883\n",
       "Other     1484\n",
       "C7000      777\n",
       "Name: count, dtype: int64"
      ]
     },
     "execution_count": 8,
     "metadata": {},
     "output_type": "execute_result"
    }
   ],
   "source": [
    "# Choose a cutoff value and create a list of classifications to be replaced\n",
    "# use the variable name `classifications_to_replace`\n",
    "classifications_to_replace = list(class_count[class_count < 300].index)\n",
    "\n",
    "# Replace in dataframe\n",
    "for cls in classifications_to_replace:\n",
    "    application_df['CLASSIFICATION'] = application_df['CLASSIFICATION'].replace(cls,\"Other\")\n",
    "\n",
    "# Check to make sure replacement was successful\n",
    "application_df['CLASSIFICATION'].value_counts()"
   ]
  },
  {
   "cell_type": "code",
   "execution_count": 9,
   "metadata": {
    "colab": {
     "base_uri": "https://localhost:8080/",
     "height": 444
    },
    "executionInfo": {
     "elapsed": 155,
     "status": "ok",
     "timestamp": 1738295278793,
     "user": {
      "displayName": "prachi patel",
      "userId": "09080171170039159407"
     },
     "user_tz": 300
    },
    "id": "NkVkfdD0NXw0",
    "outputId": "85549816-9e6e-45e6-c069-dbd67d50cde7"
   },
   "outputs": [
    {
     "data": {
      "text/html": [
       "<div>\n",
       "<style scoped>\n",
       "    .dataframe tbody tr th:only-of-type {\n",
       "        vertical-align: middle;\n",
       "    }\n",
       "\n",
       "    .dataframe tbody tr th {\n",
       "        vertical-align: top;\n",
       "    }\n",
       "\n",
       "    .dataframe thead th {\n",
       "        text-align: right;\n",
       "    }\n",
       "</style>\n",
       "<table border=\"1\" class=\"dataframe\">\n",
       "  <thead>\n",
       "    <tr style=\"text-align: right;\">\n",
       "      <th></th>\n",
       "      <th>STATUS</th>\n",
       "      <th>ASK_AMT</th>\n",
       "      <th>IS_SUCCESSFUL</th>\n",
       "      <th>APPLICATION_TYPE_Other</th>\n",
       "      <th>APPLICATION_TYPE_T19</th>\n",
       "      <th>APPLICATION_TYPE_T3</th>\n",
       "      <th>APPLICATION_TYPE_T4</th>\n",
       "      <th>APPLICATION_TYPE_T5</th>\n",
       "      <th>APPLICATION_TYPE_T6</th>\n",
       "      <th>APPLICATION_TYPE_T7</th>\n",
       "      <th>...</th>\n",
       "      <th>INCOME_AMT_1-9999</th>\n",
       "      <th>INCOME_AMT_10000-24999</th>\n",
       "      <th>INCOME_AMT_100000-499999</th>\n",
       "      <th>INCOME_AMT_10M-50M</th>\n",
       "      <th>INCOME_AMT_1M-5M</th>\n",
       "      <th>INCOME_AMT_25000-99999</th>\n",
       "      <th>INCOME_AMT_50M+</th>\n",
       "      <th>INCOME_AMT_5M-10M</th>\n",
       "      <th>SPECIAL_CONSIDERATIONS_N</th>\n",
       "      <th>SPECIAL_CONSIDERATIONS_Y</th>\n",
       "    </tr>\n",
       "  </thead>\n",
       "  <tbody>\n",
       "    <tr>\n",
       "      <th>0</th>\n",
       "      <td>1</td>\n",
       "      <td>5000</td>\n",
       "      <td>1</td>\n",
       "      <td>1</td>\n",
       "      <td>0</td>\n",
       "      <td>0</td>\n",
       "      <td>0</td>\n",
       "      <td>0</td>\n",
       "      <td>0</td>\n",
       "      <td>0</td>\n",
       "      <td>...</td>\n",
       "      <td>0</td>\n",
       "      <td>0</td>\n",
       "      <td>0</td>\n",
       "      <td>0</td>\n",
       "      <td>0</td>\n",
       "      <td>0</td>\n",
       "      <td>0</td>\n",
       "      <td>0</td>\n",
       "      <td>1</td>\n",
       "      <td>0</td>\n",
       "    </tr>\n",
       "    <tr>\n",
       "      <th>1</th>\n",
       "      <td>1</td>\n",
       "      <td>108590</td>\n",
       "      <td>1</td>\n",
       "      <td>0</td>\n",
       "      <td>0</td>\n",
       "      <td>1</td>\n",
       "      <td>0</td>\n",
       "      <td>0</td>\n",
       "      <td>0</td>\n",
       "      <td>0</td>\n",
       "      <td>...</td>\n",
       "      <td>1</td>\n",
       "      <td>0</td>\n",
       "      <td>0</td>\n",
       "      <td>0</td>\n",
       "      <td>0</td>\n",
       "      <td>0</td>\n",
       "      <td>0</td>\n",
       "      <td>0</td>\n",
       "      <td>1</td>\n",
       "      <td>0</td>\n",
       "    </tr>\n",
       "    <tr>\n",
       "      <th>2</th>\n",
       "      <td>1</td>\n",
       "      <td>5000</td>\n",
       "      <td>0</td>\n",
       "      <td>0</td>\n",
       "      <td>0</td>\n",
       "      <td>0</td>\n",
       "      <td>0</td>\n",
       "      <td>1</td>\n",
       "      <td>0</td>\n",
       "      <td>0</td>\n",
       "      <td>...</td>\n",
       "      <td>0</td>\n",
       "      <td>0</td>\n",
       "      <td>0</td>\n",
       "      <td>0</td>\n",
       "      <td>0</td>\n",
       "      <td>0</td>\n",
       "      <td>0</td>\n",
       "      <td>0</td>\n",
       "      <td>1</td>\n",
       "      <td>0</td>\n",
       "    </tr>\n",
       "    <tr>\n",
       "      <th>3</th>\n",
       "      <td>1</td>\n",
       "      <td>6692</td>\n",
       "      <td>1</td>\n",
       "      <td>0</td>\n",
       "      <td>0</td>\n",
       "      <td>1</td>\n",
       "      <td>0</td>\n",
       "      <td>0</td>\n",
       "      <td>0</td>\n",
       "      <td>0</td>\n",
       "      <td>...</td>\n",
       "      <td>0</td>\n",
       "      <td>1</td>\n",
       "      <td>0</td>\n",
       "      <td>0</td>\n",
       "      <td>0</td>\n",
       "      <td>0</td>\n",
       "      <td>0</td>\n",
       "      <td>0</td>\n",
       "      <td>1</td>\n",
       "      <td>0</td>\n",
       "    </tr>\n",
       "    <tr>\n",
       "      <th>4</th>\n",
       "      <td>1</td>\n",
       "      <td>142590</td>\n",
       "      <td>1</td>\n",
       "      <td>0</td>\n",
       "      <td>0</td>\n",
       "      <td>1</td>\n",
       "      <td>0</td>\n",
       "      <td>0</td>\n",
       "      <td>0</td>\n",
       "      <td>0</td>\n",
       "      <td>...</td>\n",
       "      <td>0</td>\n",
       "      <td>0</td>\n",
       "      <td>1</td>\n",
       "      <td>0</td>\n",
       "      <td>0</td>\n",
       "      <td>0</td>\n",
       "      <td>0</td>\n",
       "      <td>0</td>\n",
       "      <td>1</td>\n",
       "      <td>0</td>\n",
       "    </tr>\n",
       "    <tr>\n",
       "      <th>...</th>\n",
       "      <td>...</td>\n",
       "      <td>...</td>\n",
       "      <td>...</td>\n",
       "      <td>...</td>\n",
       "      <td>...</td>\n",
       "      <td>...</td>\n",
       "      <td>...</td>\n",
       "      <td>...</td>\n",
       "      <td>...</td>\n",
       "      <td>...</td>\n",
       "      <td>...</td>\n",
       "      <td>...</td>\n",
       "      <td>...</td>\n",
       "      <td>...</td>\n",
       "      <td>...</td>\n",
       "      <td>...</td>\n",
       "      <td>...</td>\n",
       "      <td>...</td>\n",
       "      <td>...</td>\n",
       "      <td>...</td>\n",
       "      <td>...</td>\n",
       "    </tr>\n",
       "    <tr>\n",
       "      <th>34294</th>\n",
       "      <td>1</td>\n",
       "      <td>5000</td>\n",
       "      <td>0</td>\n",
       "      <td>0</td>\n",
       "      <td>0</td>\n",
       "      <td>0</td>\n",
       "      <td>1</td>\n",
       "      <td>0</td>\n",
       "      <td>0</td>\n",
       "      <td>0</td>\n",
       "      <td>...</td>\n",
       "      <td>0</td>\n",
       "      <td>0</td>\n",
       "      <td>0</td>\n",
       "      <td>0</td>\n",
       "      <td>0</td>\n",
       "      <td>0</td>\n",
       "      <td>0</td>\n",
       "      <td>0</td>\n",
       "      <td>1</td>\n",
       "      <td>0</td>\n",
       "    </tr>\n",
       "    <tr>\n",
       "      <th>34295</th>\n",
       "      <td>1</td>\n",
       "      <td>5000</td>\n",
       "      <td>0</td>\n",
       "      <td>0</td>\n",
       "      <td>0</td>\n",
       "      <td>0</td>\n",
       "      <td>1</td>\n",
       "      <td>0</td>\n",
       "      <td>0</td>\n",
       "      <td>0</td>\n",
       "      <td>...</td>\n",
       "      <td>0</td>\n",
       "      <td>0</td>\n",
       "      <td>0</td>\n",
       "      <td>0</td>\n",
       "      <td>0</td>\n",
       "      <td>0</td>\n",
       "      <td>0</td>\n",
       "      <td>0</td>\n",
       "      <td>1</td>\n",
       "      <td>0</td>\n",
       "    </tr>\n",
       "    <tr>\n",
       "      <th>34296</th>\n",
       "      <td>1</td>\n",
       "      <td>5000</td>\n",
       "      <td>0</td>\n",
       "      <td>0</td>\n",
       "      <td>0</td>\n",
       "      <td>1</td>\n",
       "      <td>0</td>\n",
       "      <td>0</td>\n",
       "      <td>0</td>\n",
       "      <td>0</td>\n",
       "      <td>...</td>\n",
       "      <td>0</td>\n",
       "      <td>0</td>\n",
       "      <td>0</td>\n",
       "      <td>0</td>\n",
       "      <td>0</td>\n",
       "      <td>0</td>\n",
       "      <td>0</td>\n",
       "      <td>0</td>\n",
       "      <td>1</td>\n",
       "      <td>0</td>\n",
       "    </tr>\n",
       "    <tr>\n",
       "      <th>34297</th>\n",
       "      <td>1</td>\n",
       "      <td>5000</td>\n",
       "      <td>1</td>\n",
       "      <td>0</td>\n",
       "      <td>0</td>\n",
       "      <td>0</td>\n",
       "      <td>0</td>\n",
       "      <td>1</td>\n",
       "      <td>0</td>\n",
       "      <td>0</td>\n",
       "      <td>...</td>\n",
       "      <td>0</td>\n",
       "      <td>0</td>\n",
       "      <td>0</td>\n",
       "      <td>0</td>\n",
       "      <td>0</td>\n",
       "      <td>0</td>\n",
       "      <td>0</td>\n",
       "      <td>0</td>\n",
       "      <td>1</td>\n",
       "      <td>0</td>\n",
       "    </tr>\n",
       "    <tr>\n",
       "      <th>34298</th>\n",
       "      <td>1</td>\n",
       "      <td>36500179</td>\n",
       "      <td>0</td>\n",
       "      <td>0</td>\n",
       "      <td>0</td>\n",
       "      <td>1</td>\n",
       "      <td>0</td>\n",
       "      <td>0</td>\n",
       "      <td>0</td>\n",
       "      <td>0</td>\n",
       "      <td>...</td>\n",
       "      <td>0</td>\n",
       "      <td>0</td>\n",
       "      <td>0</td>\n",
       "      <td>0</td>\n",
       "      <td>1</td>\n",
       "      <td>0</td>\n",
       "      <td>0</td>\n",
       "      <td>0</td>\n",
       "      <td>1</td>\n",
       "      <td>0</td>\n",
       "    </tr>\n",
       "  </tbody>\n",
       "</table>\n",
       "<p>34299 rows × 44 columns</p>\n",
       "</div>"
      ],
      "text/plain": [
       "       STATUS   ASK_AMT  IS_SUCCESSFUL  APPLICATION_TYPE_Other  \\\n",
       "0           1      5000              1                       1   \n",
       "1           1    108590              1                       0   \n",
       "2           1      5000              0                       0   \n",
       "3           1      6692              1                       0   \n",
       "4           1    142590              1                       0   \n",
       "...       ...       ...            ...                     ...   \n",
       "34294       1      5000              0                       0   \n",
       "34295       1      5000              0                       0   \n",
       "34296       1      5000              0                       0   \n",
       "34297       1      5000              1                       0   \n",
       "34298       1  36500179              0                       0   \n",
       "\n",
       "       APPLICATION_TYPE_T19  APPLICATION_TYPE_T3  APPLICATION_TYPE_T4  \\\n",
       "0                         0                    0                    0   \n",
       "1                         0                    1                    0   \n",
       "2                         0                    0                    0   \n",
       "3                         0                    1                    0   \n",
       "4                         0                    1                    0   \n",
       "...                     ...                  ...                  ...   \n",
       "34294                     0                    0                    1   \n",
       "34295                     0                    0                    1   \n",
       "34296                     0                    1                    0   \n",
       "34297                     0                    0                    0   \n",
       "34298                     0                    1                    0   \n",
       "\n",
       "       APPLICATION_TYPE_T5  APPLICATION_TYPE_T6  APPLICATION_TYPE_T7  ...  \\\n",
       "0                        0                    0                    0  ...   \n",
       "1                        0                    0                    0  ...   \n",
       "2                        1                    0                    0  ...   \n",
       "3                        0                    0                    0  ...   \n",
       "4                        0                    0                    0  ...   \n",
       "...                    ...                  ...                  ...  ...   \n",
       "34294                    0                    0                    0  ...   \n",
       "34295                    0                    0                    0  ...   \n",
       "34296                    0                    0                    0  ...   \n",
       "34297                    1                    0                    0  ...   \n",
       "34298                    0                    0                    0  ...   \n",
       "\n",
       "       INCOME_AMT_1-9999  INCOME_AMT_10000-24999  INCOME_AMT_100000-499999  \\\n",
       "0                      0                       0                         0   \n",
       "1                      1                       0                         0   \n",
       "2                      0                       0                         0   \n",
       "3                      0                       1                         0   \n",
       "4                      0                       0                         1   \n",
       "...                  ...                     ...                       ...   \n",
       "34294                  0                       0                         0   \n",
       "34295                  0                       0                         0   \n",
       "34296                  0                       0                         0   \n",
       "34297                  0                       0                         0   \n",
       "34298                  0                       0                         0   \n",
       "\n",
       "       INCOME_AMT_10M-50M  INCOME_AMT_1M-5M  INCOME_AMT_25000-99999  \\\n",
       "0                       0                 0                       0   \n",
       "1                       0                 0                       0   \n",
       "2                       0                 0                       0   \n",
       "3                       0                 0                       0   \n",
       "4                       0                 0                       0   \n",
       "...                   ...               ...                     ...   \n",
       "34294                   0                 0                       0   \n",
       "34295                   0                 0                       0   \n",
       "34296                   0                 0                       0   \n",
       "34297                   0                 0                       0   \n",
       "34298                   0                 1                       0   \n",
       "\n",
       "       INCOME_AMT_50M+  INCOME_AMT_5M-10M  SPECIAL_CONSIDERATIONS_N  \\\n",
       "0                    0                  0                         1   \n",
       "1                    0                  0                         1   \n",
       "2                    0                  0                         1   \n",
       "3                    0                  0                         1   \n",
       "4                    0                  0                         1   \n",
       "...                ...                ...                       ...   \n",
       "34294                0                  0                         1   \n",
       "34295                0                  0                         1   \n",
       "34296                0                  0                         1   \n",
       "34297                0                  0                         1   \n",
       "34298                0                  0                         1   \n",
       "\n",
       "       SPECIAL_CONSIDERATIONS_Y  \n",
       "0                             0  \n",
       "1                             0  \n",
       "2                             0  \n",
       "3                             0  \n",
       "4                             0  \n",
       "...                         ...  \n",
       "34294                         0  \n",
       "34295                         0  \n",
       "34296                         0  \n",
       "34297                         0  \n",
       "34298                         0  \n",
       "\n",
       "[34299 rows x 44 columns]"
      ]
     },
     "execution_count": 9,
     "metadata": {},
     "output_type": "execute_result"
    }
   ],
   "source": [
    "# Convert categorical data to numeric with `pd.get_dummies`\n",
    "numeric_application_df = pd.get_dummies(application_df, dtype=int)\n",
    "numeric_application_df"
   ]
  },
  {
   "cell_type": "code",
   "execution_count": 10,
   "metadata": {
    "executionInfo": {
     "elapsed": 77,
     "status": "ok",
     "timestamp": 1738295310301,
     "user": {
      "displayName": "prachi patel",
      "userId": "09080171170039159407"
     },
     "user_tz": 300
    },
    "id": "b7t9KNo-NXw1"
   },
   "outputs": [],
   "source": [
    "# Split our preprocessed data into our features and target arrays\n",
    "y = numeric_application_df[\"IS_SUCCESSFUL\"].values\n",
    "X = numeric_application_df.drop([\"IS_SUCCESSFUL\"], axis=1).values\n",
    "\n",
    "# Split the preprocessed data into a training and testing dataset\n",
    "X_train, X_test, y_train, y_test = train_test_split(X, y, random_state=78)"
   ]
  },
  {
   "cell_type": "code",
   "execution_count": 11,
   "metadata": {
    "executionInfo": {
     "elapsed": 158,
     "status": "ok",
     "timestamp": 1738295313511,
     "user": {
      "displayName": "prachi patel",
      "userId": "09080171170039159407"
     },
     "user_tz": 300
    },
    "id": "bxWAsfnXNXw1"
   },
   "outputs": [],
   "source": [
    "# Create a StandardScaler instances\n",
    "scaler = StandardScaler()\n",
    "\n",
    "# Fit the StandardScaler\n",
    "X_scaler = scaler.fit(X_train)\n",
    "\n",
    "# Scale the data\n",
    "X_train_scaled = X_scaler.transform(X_train)\n",
    "X_test_scaled = X_scaler.transform(X_test)"
   ]
  },
  {
   "cell_type": "markdown",
   "metadata": {
    "id": "m08azrRxNXw2"
   },
   "source": [
    "## Compile, Train and Evaluate the Model"
   ]
  },
  {
   "cell_type": "markdown",
   "metadata": {
    "id": "iOJtkqUoeZ3-"
   },
   "source": [
    "# FIRST ATTEMPT\n",
    "\n",
    "APPLICATION_TYPE cutoff = 600\n",
    "\n",
    "CLASSIFICATION cutoff = 300\n",
    "\n",
    "layer1 = 8 : activation function = relu\n",
    "\n",
    "layer2 = 5 : activation function = relu"
   ]
  },
  {
   "cell_type": "code",
   "execution_count": 12,
   "metadata": {
    "colab": {
     "base_uri": "https://localhost:8080/",
     "height": 280
    },
    "executionInfo": {
     "elapsed": 223,
     "status": "ok",
     "timestamp": 1738296134797,
     "user": {
      "displayName": "prachi patel",
      "userId": "09080171170039159407"
     },
     "user_tz": 300
    },
    "id": "zB2xLP8XNXw3",
    "outputId": "33c30ff8-d5d1-4784-b144-932456f44367"
   },
   "outputs": [
    {
     "name": "stdout",
     "output_type": "stream",
     "text": [
      "Model: \"sequential\"\n",
      "_________________________________________________________________\n",
      " Layer (type)                Output Shape              Param #   \n",
      "=================================================================\n",
      " dense (Dense)               (None, 8)                 352       \n",
      "                                                                 \n",
      " dense_1 (Dense)             (None, 5)                 45        \n",
      "                                                                 \n",
      " dense_2 (Dense)             (None, 1)                 6         \n",
      "                                                                 \n",
      "=================================================================\n",
      "Total params: 403\n",
      "Trainable params: 403\n",
      "Non-trainable params: 0\n",
      "_________________________________________________________________\n"
     ]
    }
   ],
   "source": [
    "# Define the model - deep neural net, i.e., the number of input features and hidden nodes for each layer.\n",
    "number_input_features = len(X_train[0])\n",
    "hidden_nodes_layer1 =  8\n",
    "hidden_nodes_layer2 = 5\n",
    "\n",
    "\n",
    "nn = tf.keras.models.Sequential()\n",
    "\n",
    "# First hidden layer\n",
    "nn.add(\n",
    "    tf.keras.layers.Dense(units=hidden_nodes_layer1, input_dim=number_input_features, activation=\"relu\")\n",
    ")\n",
    "\n",
    "# Second hidden layer\n",
    "nn.add(tf.keras.layers.Dense(units=hidden_nodes_layer2, activation=\"relu\"))\n",
    "\n",
    "# Output layer\n",
    "nn.add(tf.keras.layers.Dense(units=1, activation=\"sigmoid\"))\n",
    "\n",
    "# Check the structure of the model\n",
    "nn.summary()"
   ]
  },
  {
   "cell_type": "code",
   "execution_count": 13,
   "metadata": {
    "executionInfo": {
     "elapsed": 100,
     "status": "ok",
     "timestamp": 1738296147845,
     "user": {
      "displayName": "prachi patel",
      "userId": "09080171170039159407"
     },
     "user_tz": 300
    },
    "id": "o2xS6CSgNXw3"
   },
   "outputs": [],
   "source": [
    "# Compile the model\n",
    "nn.compile(loss=\"binary_crossentropy\", optimizer=\"adam\", metrics=[\"accuracy\"])"
   ]
  },
  {
   "cell_type": "code",
   "execution_count": 14,
   "metadata": {
    "colab": {
     "base_uri": "https://localhost:8080/"
    },
    "executionInfo": {
     "elapsed": 263380,
     "status": "ok",
     "timestamp": 1738296414816,
     "user": {
      "displayName": "prachi patel",
      "userId": "09080171170039159407"
     },
     "user_tz": 300
    },
    "id": "qHDsbiLHNXw3",
    "outputId": "dd9c35d1-a52c-4585-b864-c02094a8a820"
   },
   "outputs": [
    {
     "name": "stdout",
     "output_type": "stream",
     "text": [
      "Epoch 1/100\n",
      "804/804 [==============================] - 2s 2ms/step - loss: 0.6572 - accuracy: 0.6688\n",
      "Epoch 2/100\n",
      "804/804 [==============================] - 1s 2ms/step - loss: 0.5792 - accuracy: 0.7237\n",
      "Epoch 3/100\n",
      "804/804 [==============================] - 1s 2ms/step - loss: 0.5671 - accuracy: 0.7255\n",
      "Epoch 4/100\n",
      "804/804 [==============================] - 1s 2ms/step - loss: 0.5617 - accuracy: 0.7262\n",
      "Epoch 5/100\n",
      "804/804 [==============================] - 1s 2ms/step - loss: 0.5591 - accuracy: 0.7285\n",
      "Epoch 6/100\n",
      "804/804 [==============================] - 1s 2ms/step - loss: 0.5575 - accuracy: 0.7290\n",
      "Epoch 7/100\n",
      "804/804 [==============================] - 1s 2ms/step - loss: 0.5563 - accuracy: 0.7287\n",
      "Epoch 8/100\n",
      "804/804 [==============================] - 1s 2ms/step - loss: 0.5551 - accuracy: 0.7299\n",
      "Epoch 9/100\n",
      "804/804 [==============================] - 1s 1ms/step - loss: 0.5541 - accuracy: 0.7304\n",
      "Epoch 10/100\n",
      "804/804 [==============================] - 1s 1ms/step - loss: 0.5534 - accuracy: 0.7308\n",
      "Epoch 11/100\n",
      "804/804 [==============================] - 1s 1ms/step - loss: 0.5529 - accuracy: 0.7311\n",
      "Epoch 12/100\n",
      "804/804 [==============================] - 1s 1ms/step - loss: 0.5523 - accuracy: 0.7320\n",
      "Epoch 13/100\n",
      "804/804 [==============================] - 1s 1ms/step - loss: 0.5518 - accuracy: 0.7318\n",
      "Epoch 14/100\n",
      "804/804 [==============================] - 1s 1ms/step - loss: 0.5518 - accuracy: 0.7310\n",
      "Epoch 15/100\n",
      "804/804 [==============================] - 1s 1ms/step - loss: 0.5512 - accuracy: 0.7320\n",
      "Epoch 16/100\n",
      "804/804 [==============================] - 1s 1ms/step - loss: 0.5511 - accuracy: 0.7325\n",
      "Epoch 17/100\n",
      "804/804 [==============================] - 1s 1ms/step - loss: 0.5508 - accuracy: 0.7312\n",
      "Epoch 18/100\n",
      "804/804 [==============================] - 1s 1ms/step - loss: 0.5507 - accuracy: 0.7323\n",
      "Epoch 19/100\n",
      "804/804 [==============================] - 1s 1ms/step - loss: 0.5503 - accuracy: 0.7322\n",
      "Epoch 20/100\n",
      "804/804 [==============================] - 1s 1ms/step - loss: 0.5501 - accuracy: 0.7324\n",
      "Epoch 21/100\n",
      "804/804 [==============================] - 1s 1ms/step - loss: 0.5501 - accuracy: 0.7330\n",
      "Epoch 22/100\n",
      "804/804 [==============================] - 1s 1ms/step - loss: 0.5494 - accuracy: 0.7325\n",
      "Epoch 23/100\n",
      "804/804 [==============================] - 1s 1ms/step - loss: 0.5496 - accuracy: 0.7329\n",
      "Epoch 24/100\n",
      "804/804 [==============================] - 1s 1ms/step - loss: 0.5491 - accuracy: 0.7330\n",
      "Epoch 25/100\n",
      "804/804 [==============================] - 1s 1ms/step - loss: 0.5493 - accuracy: 0.7327\n",
      "Epoch 26/100\n",
      "804/804 [==============================] - 1s 1ms/step - loss: 0.5489 - accuracy: 0.7340\n",
      "Epoch 27/100\n",
      "804/804 [==============================] - 1s 1ms/step - loss: 0.5487 - accuracy: 0.7343\n",
      "Epoch 28/100\n",
      "804/804 [==============================] - 1s 1ms/step - loss: 0.5488 - accuracy: 0.7339\n",
      "Epoch 29/100\n",
      "804/804 [==============================] - 1s 1ms/step - loss: 0.5483 - accuracy: 0.7334\n",
      "Epoch 30/100\n",
      "804/804 [==============================] - 1s 1ms/step - loss: 0.5481 - accuracy: 0.7338\n",
      "Epoch 31/100\n",
      "804/804 [==============================] - 1s 2ms/step - loss: 0.5481 - accuracy: 0.7331\n",
      "Epoch 32/100\n",
      "804/804 [==============================] - 1s 2ms/step - loss: 0.5479 - accuracy: 0.7339\n",
      "Epoch 33/100\n",
      "804/804 [==============================] - 1s 2ms/step - loss: 0.5477 - accuracy: 0.7334\n",
      "Epoch 34/100\n",
      "804/804 [==============================] - 1s 2ms/step - loss: 0.5475 - accuracy: 0.7334\n",
      "Epoch 35/100\n",
      "804/804 [==============================] - 1s 1ms/step - loss: 0.5474 - accuracy: 0.7338\n",
      "Epoch 36/100\n",
      "804/804 [==============================] - 1s 2ms/step - loss: 0.5475 - accuracy: 0.7343\n",
      "Epoch 37/100\n",
      "804/804 [==============================] - 1s 2ms/step - loss: 0.5468 - accuracy: 0.7343\n",
      "Epoch 38/100\n",
      "804/804 [==============================] - 1s 2ms/step - loss: 0.5473 - accuracy: 0.7334\n",
      "Epoch 39/100\n",
      "804/804 [==============================] - 1s 2ms/step - loss: 0.5469 - accuracy: 0.7348\n",
      "Epoch 40/100\n",
      "804/804 [==============================] - 1s 2ms/step - loss: 0.5470 - accuracy: 0.7343\n",
      "Epoch 41/100\n",
      "804/804 [==============================] - 1s 2ms/step - loss: 0.5467 - accuracy: 0.7333\n",
      "Epoch 42/100\n",
      "804/804 [==============================] - 1s 2ms/step - loss: 0.5468 - accuracy: 0.7354\n",
      "Epoch 43/100\n",
      "804/804 [==============================] - 1s 2ms/step - loss: 0.5463 - accuracy: 0.7343\n",
      "Epoch 44/100\n",
      "804/804 [==============================] - 1s 2ms/step - loss: 0.5468 - accuracy: 0.7350\n",
      "Epoch 45/100\n",
      "804/804 [==============================] - 1s 2ms/step - loss: 0.5463 - accuracy: 0.7349\n",
      "Epoch 46/100\n",
      "804/804 [==============================] - 1s 2ms/step - loss: 0.5460 - accuracy: 0.7348\n",
      "Epoch 47/100\n",
      "804/804 [==============================] - 1s 2ms/step - loss: 0.5456 - accuracy: 0.7354\n",
      "Epoch 48/100\n",
      "804/804 [==============================] - 1s 2ms/step - loss: 0.5460 - accuracy: 0.7350\n",
      "Epoch 49/100\n",
      "804/804 [==============================] - 1s 2ms/step - loss: 0.5461 - accuracy: 0.7356\n",
      "Epoch 50/100\n",
      "804/804 [==============================] - 1s 2ms/step - loss: 0.5461 - accuracy: 0.7350\n",
      "Epoch 51/100\n",
      "804/804 [==============================] - 1s 2ms/step - loss: 0.5458 - accuracy: 0.7356\n",
      "Epoch 52/100\n",
      "804/804 [==============================] - 1s 2ms/step - loss: 0.5455 - accuracy: 0.7345\n",
      "Epoch 53/100\n",
      "804/804 [==============================] - 1s 2ms/step - loss: 0.5458 - accuracy: 0.7352\n",
      "Epoch 54/100\n",
      "804/804 [==============================] - 1s 2ms/step - loss: 0.5455 - accuracy: 0.7348\n",
      "Epoch 55/100\n",
      "804/804 [==============================] - 1s 2ms/step - loss: 0.5456 - accuracy: 0.7353\n",
      "Epoch 56/100\n",
      "804/804 [==============================] - 1s 2ms/step - loss: 0.5457 - accuracy: 0.7353\n",
      "Epoch 57/100\n",
      "804/804 [==============================] - 1s 2ms/step - loss: 0.5455 - accuracy: 0.7352\n",
      "Epoch 58/100\n",
      "804/804 [==============================] - 1s 2ms/step - loss: 0.5456 - accuracy: 0.7352\n",
      "Epoch 59/100\n",
      "804/804 [==============================] - 1s 2ms/step - loss: 0.5454 - accuracy: 0.7353\n",
      "Epoch 60/100\n",
      "804/804 [==============================] - 1s 2ms/step - loss: 0.5452 - accuracy: 0.7348\n",
      "Epoch 61/100\n",
      "804/804 [==============================] - 1s 2ms/step - loss: 0.5452 - accuracy: 0.7348\n",
      "Epoch 62/100\n",
      "804/804 [==============================] - 1s 2ms/step - loss: 0.5452 - accuracy: 0.7354\n",
      "Epoch 63/100\n",
      "804/804 [==============================] - 1s 2ms/step - loss: 0.5453 - accuracy: 0.7357\n",
      "Epoch 64/100\n",
      "804/804 [==============================] - 1s 2ms/step - loss: 0.5451 - accuracy: 0.7357\n",
      "Epoch 65/100\n",
      "804/804 [==============================] - 1s 2ms/step - loss: 0.5452 - accuracy: 0.7353\n",
      "Epoch 66/100\n",
      "804/804 [==============================] - 1s 2ms/step - loss: 0.5451 - accuracy: 0.7355\n",
      "Epoch 67/100\n",
      "804/804 [==============================] - 1s 2ms/step - loss: 0.5450 - accuracy: 0.7357\n",
      "Epoch 68/100\n",
      "804/804 [==============================] - 1s 2ms/step - loss: 0.5452 - accuracy: 0.7357\n",
      "Epoch 69/100\n",
      "804/804 [==============================] - 1s 2ms/step - loss: 0.5450 - accuracy: 0.7358\n",
      "Epoch 70/100\n",
      "804/804 [==============================] - 1s 2ms/step - loss: 0.5449 - accuracy: 0.7359\n",
      "Epoch 71/100\n",
      "804/804 [==============================] - 1s 2ms/step - loss: 0.5450 - accuracy: 0.7362\n",
      "Epoch 72/100\n",
      "804/804 [==============================] - 1s 2ms/step - loss: 0.5446 - accuracy: 0.7351\n",
      "Epoch 73/100\n",
      "804/804 [==============================] - 1s 2ms/step - loss: 0.5448 - accuracy: 0.7362\n",
      "Epoch 74/100\n",
      "804/804 [==============================] - 1s 2ms/step - loss: 0.5449 - accuracy: 0.7354\n",
      "Epoch 75/100\n",
      "804/804 [==============================] - 1s 2ms/step - loss: 0.5447 - accuracy: 0.7356\n",
      "Epoch 76/100\n",
      "804/804 [==============================] - 1s 2ms/step - loss: 0.5448 - accuracy: 0.7349\n",
      "Epoch 77/100\n",
      "804/804 [==============================] - 1s 2ms/step - loss: 0.5446 - accuracy: 0.7358\n",
      "Epoch 78/100\n",
      "804/804 [==============================] - 1s 2ms/step - loss: 0.5447 - accuracy: 0.7352\n",
      "Epoch 79/100\n",
      "804/804 [==============================] - 1s 2ms/step - loss: 0.5445 - accuracy: 0.7359\n",
      "Epoch 80/100\n",
      "804/804 [==============================] - 1s 2ms/step - loss: 0.5450 - accuracy: 0.7362\n",
      "Epoch 81/100\n",
      "804/804 [==============================] - 1s 2ms/step - loss: 0.5447 - accuracy: 0.7360\n",
      "Epoch 82/100\n",
      "804/804 [==============================] - 1s 2ms/step - loss: 0.5442 - accuracy: 0.7364\n",
      "Epoch 83/100\n",
      "804/804 [==============================] - 1s 2ms/step - loss: 0.5445 - accuracy: 0.7348\n",
      "Epoch 84/100\n",
      "804/804 [==============================] - 1s 2ms/step - loss: 0.5443 - accuracy: 0.7360\n",
      "Epoch 85/100\n",
      "804/804 [==============================] - 1s 2ms/step - loss: 0.5446 - accuracy: 0.7362\n",
      "Epoch 86/100\n",
      "804/804 [==============================] - 1s 2ms/step - loss: 0.5441 - accuracy: 0.7357\n",
      "Epoch 87/100\n",
      "804/804 [==============================] - 1s 2ms/step - loss: 0.5446 - accuracy: 0.7357\n",
      "Epoch 88/100\n",
      "804/804 [==============================] - 1s 2ms/step - loss: 0.5445 - accuracy: 0.7355\n",
      "Epoch 89/100\n",
      "804/804 [==============================] - 1s 2ms/step - loss: 0.5442 - accuracy: 0.7362\n",
      "Epoch 90/100\n",
      "804/804 [==============================] - 1s 2ms/step - loss: 0.5444 - accuracy: 0.7351\n",
      "Epoch 91/100\n",
      "804/804 [==============================] - 1s 2ms/step - loss: 0.5441 - accuracy: 0.7356\n",
      "Epoch 92/100\n",
      "804/804 [==============================] - 1s 2ms/step - loss: 0.5443 - accuracy: 0.7363\n",
      "Epoch 93/100\n",
      "804/804 [==============================] - 1s 2ms/step - loss: 0.5440 - accuracy: 0.7353\n",
      "Epoch 94/100\n",
      "804/804 [==============================] - 1s 2ms/step - loss: 0.5439 - accuracy: 0.7364\n",
      "Epoch 95/100\n",
      "804/804 [==============================] - 1s 2ms/step - loss: 0.5439 - accuracy: 0.7354\n",
      "Epoch 96/100\n",
      "804/804 [==============================] - 1s 2ms/step - loss: 0.5438 - accuracy: 0.7356\n",
      "Epoch 97/100\n",
      "804/804 [==============================] - 1s 2ms/step - loss: 0.5442 - accuracy: 0.7361\n",
      "Epoch 98/100\n",
      "804/804 [==============================] - 1s 2ms/step - loss: 0.5440 - accuracy: 0.7362\n",
      "Epoch 99/100\n",
      "804/804 [==============================] - 1s 2ms/step - loss: 0.5439 - accuracy: 0.7356\n",
      "Epoch 100/100\n",
      "804/804 [==============================] - 1s 2ms/step - loss: 0.5439 - accuracy: 0.7353\n"
     ]
    }
   ],
   "source": [
    "# Train the model\n",
    "fit_model = nn.fit(X_train_scaled,y_train,epochs=100)"
   ]
  },
  {
   "cell_type": "code",
   "execution_count": 15,
   "metadata": {
    "colab": {
     "base_uri": "https://localhost:8080/"
    },
    "executionInfo": {
     "elapsed": 1014,
     "status": "ok",
     "timestamp": 1738296581969,
     "user": {
      "displayName": "prachi patel",
      "userId": "09080171170039159407"
     },
     "user_tz": 300
    },
    "id": "4W9y-b2GNXw3",
    "outputId": "d0d69a47-525f-4532-a675-bf19bae4b241"
   },
   "outputs": [
    {
     "name": "stdout",
     "output_type": "stream",
     "text": [
      "268/268 - 1s - loss: 0.5533 - accuracy: 0.7252 - 529ms/epoch - 2ms/step\n",
      "Loss: 0.5532517433166504, Accuracy: 0.7252478003501892\n"
     ]
    }
   ],
   "source": [
    "# Evaluate the model using the test data - FIRST ATTEMPT\n",
    "model_loss, model_accuracy = nn.evaluate(X_test_scaled,y_test,verbose=2)\n",
    "print(f\"Loss: {model_loss}, Accuracy: {model_accuracy}\")"
   ]
  },
  {
   "cell_type": "code",
   "execution_count": 31,
   "metadata": {
    "colab": {
     "base_uri": "https://localhost:8080/"
    },
    "executionInfo": {
     "elapsed": 158,
     "status": "ok",
     "timestamp": 1738296784026,
     "user": {
      "displayName": "prachi patel",
      "userId": "09080171170039159407"
     },
     "user_tz": 300
    },
    "id": "Wz1an-a8NXw3",
    "outputId": "07a6b119-120e-470b-bcc4-6f74a96a33dd"
   },
   "outputs": [],
   "source": [
    "# Export our model to HDF5 file\n",
    "#  To Save a Tensorflow Model-- this is the code to do it:\n",
    "# Export our model to HDF5 file\n",
    "nn.save(\"alphabetsoupcharityOptimization1.h5\")"
   ]
  },
  {
   "cell_type": "code",
   "execution_count": 17,
   "metadata": {
    "colab": {
     "base_uri": "https://localhost:8080/",
     "height": 447
    },
    "executionInfo": {
     "elapsed": 386,
     "status": "ok",
     "timestamp": 1738296943759,
     "user": {
      "displayName": "prachi patel",
      "userId": "09080171170039159407"
     },
     "user_tz": 300
    },
    "id": "QROijAvFNXw3",
    "outputId": "7f370f2a-6c36-43e6-ebe5-70f1f8fb83b9"
   },
   "outputs": [
    {
     "data": {
      "text/plain": [
       "<Axes: >"
      ]
     },
     "execution_count": 17,
     "metadata": {},
     "output_type": "execute_result"
    },
    {
     "data": {
      "image/png": "[encoded data removed]",
      "text/plain": [
       "<Figure size 640x480 with 1 Axes>"
      ]
     },
     "metadata": {},
     "output_type": "display_data"
    }
   ],
   "source": [
    "# plotting the accuracy - FIRST ATTEMPT\n",
    "history_df = pd.DataFrame(fit_model.history, index = range(1, len(fit_model.history['loss'])+1))\n",
    "history_df.plot(y = 'accuracy')"
   ]
  },
  {
   "cell_type": "markdown",
   "metadata": {
    "id": "Cbbdv2Cxk-f7"
   },
   "source": [
    "# SECOND ATTEMPT - adding a hidden layer\n",
    "\n",
    "layer1 = 9 : activation function = relu\n",
    "\n",
    "layer2 = 18 : activation function = relu"
   ]
  },
  {
   "cell_type": "code",
   "execution_count": 18,
   "metadata": {
    "colab": {
     "base_uri": "https://localhost:8080/",
     "height": 280
    },
    "executionInfo": {
     "elapsed": 167,
     "status": "ok",
     "timestamp": 1738296956438,
     "user": {
      "displayName": "prachi patel",
      "userId": "09080171170039159407"
     },
     "user_tz": 300
    },
    "id": "xKWhpYHqRvDt",
    "outputId": "bd235ae3-ed1b-4042-d179-d014cbe5a7a9"
   },
   "outputs": [
    {
     "name": "stdout",
     "output_type": "stream",
     "text": [
      "Model: \"sequential_1\"\n",
      "_________________________________________________________________\n",
      " Layer (type)                Output Shape              Param #   \n",
      "=================================================================\n",
      " dense_3 (Dense)             (None, 9)                 396       \n",
      "                                                                 \n",
      " dense_4 (Dense)             (None, 18)                180       \n",
      "                                                                 \n",
      " dense_5 (Dense)             (None, 1)                 19        \n",
      "                                                                 \n",
      "=================================================================\n",
      "Total params: 595\n",
      "Trainable params: 595\n",
      "Non-trainable params: 0\n",
      "_________________________________________________________________\n"
     ]
    }
   ],
   "source": [
    "# Define the model - deep neural net, i.e., the number of input features and hidden nodes for each layer. SECOND ATTEMPT\n",
    "number_input_features = len(X_train[0])\n",
    "hidden_nodes_layer1 =  9\n",
    "hidden_nodes_layer2 = 18\n",
    "\n",
    "\n",
    "\n",
    "nn = tf.keras.models.Sequential()\n",
    "\n",
    "# First hidden layer\n",
    "nn.add(\n",
    "    tf.keras.layers.Dense(units=hidden_nodes_layer1, input_dim=number_input_features, activation=\"relu\")\n",
    ")\n",
    "\n",
    "# Second hidden layer\n",
    "nn.add(tf.keras.layers.Dense(units=hidden_nodes_layer2, activation=\"relu\"))\n",
    "\n",
    "# Output layer\n",
    "nn.add(tf.keras.layers.Dense(units=1, activation=\"sigmoid\"))\n",
    "\n",
    "# Check the structure of the model\n",
    "nn.summary()"
   ]
  },
  {
   "cell_type": "code",
   "execution_count": 19,
   "metadata": {
    "executionInfo": {
     "elapsed": 75,
     "status": "ok",
     "timestamp": 1738296964545,
     "user": {
      "displayName": "prachi patel",
      "userId": "09080171170039159407"
     },
     "user_tz": 300
    },
    "id": "IKRqHxXpRvAV"
   },
   "outputs": [],
   "source": [
    "# Compile the model\n",
    "nn.compile(loss=\"binary_crossentropy\", optimizer=\"adam\", metrics=[\"accuracy\"])"
   ]
  },
  {
   "cell_type": "code",
   "execution_count": 20,
   "metadata": {
    "colab": {
     "base_uri": "https://localhost:8080/"
    },
    "executionInfo": {
     "elapsed": 274185,
     "status": "ok",
     "timestamp": 1738297240427,
     "user": {
      "displayName": "prachi patel",
      "userId": "09080171170039159407"
     },
     "user_tz": 300
    },
    "id": "-EXBdytaRu8T",
    "outputId": "820acb92-a3da-4fc1-ac0f-02bc599fd5a3"
   },
   "outputs": [
    {
     "name": "stdout",
     "output_type": "stream",
     "text": [
      "Epoch 1/100\n",
      "804/804 [==============================] - 2s 2ms/step - loss: 0.5840 - accuracy: 0.7091\n",
      "Epoch 2/100\n",
      "804/804 [==============================] - 1s 2ms/step - loss: 0.5607 - accuracy: 0.7252\n",
      "Epoch 3/100\n",
      "804/804 [==============================] - 1s 2ms/step - loss: 0.5564 - accuracy: 0.7292\n",
      "Epoch 4/100\n",
      "804/804 [==============================] - 1s 2ms/step - loss: 0.5544 - accuracy: 0.7298\n",
      "Epoch 5/100\n",
      "804/804 [==============================] - 1s 2ms/step - loss: 0.5526 - accuracy: 0.7301\n",
      "Epoch 6/100\n",
      "804/804 [==============================] - 1s 2ms/step - loss: 0.5521 - accuracy: 0.7302\n",
      "Epoch 7/100\n",
      "804/804 [==============================] - 1s 2ms/step - loss: 0.5511 - accuracy: 0.7300\n",
      "Epoch 8/100\n",
      "804/804 [==============================] - 1s 2ms/step - loss: 0.5506 - accuracy: 0.7303\n",
      "Epoch 9/100\n",
      "804/804 [==============================] - 1s 2ms/step - loss: 0.5499 - accuracy: 0.7308\n",
      "Epoch 10/100\n",
      "804/804 [==============================] - 1s 2ms/step - loss: 0.5497 - accuracy: 0.7308\n",
      "Epoch 11/100\n",
      "804/804 [==============================] - 1s 2ms/step - loss: 0.5491 - accuracy: 0.7307\n",
      "Epoch 12/100\n",
      "804/804 [==============================] - 1s 2ms/step - loss: 0.5487 - accuracy: 0.7307\n",
      "Epoch 13/100\n",
      "804/804 [==============================] - 1s 2ms/step - loss: 0.5482 - accuracy: 0.7304\n",
      "Epoch 14/100\n",
      "804/804 [==============================] - 1s 2ms/step - loss: 0.5479 - accuracy: 0.7324\n",
      "Epoch 15/100\n",
      "804/804 [==============================] - 1s 2ms/step - loss: 0.5476 - accuracy: 0.7311\n",
      "Epoch 16/100\n",
      "804/804 [==============================] - 1s 2ms/step - loss: 0.5476 - accuracy: 0.7324\n",
      "Epoch 17/100\n",
      "804/804 [==============================] - 1s 2ms/step - loss: 0.5472 - accuracy: 0.7308\n",
      "Epoch 18/100\n",
      "804/804 [==============================] - 1s 2ms/step - loss: 0.5470 - accuracy: 0.7313\n",
      "Epoch 19/100\n",
      "804/804 [==============================] - 1s 2ms/step - loss: 0.5466 - accuracy: 0.7330\n",
      "Epoch 20/100\n",
      "804/804 [==============================] - 1s 2ms/step - loss: 0.5468 - accuracy: 0.7315\n",
      "Epoch 21/100\n",
      "804/804 [==============================] - 1s 2ms/step - loss: 0.5464 - accuracy: 0.7329\n",
      "Epoch 22/100\n",
      "804/804 [==============================] - 1s 2ms/step - loss: 0.5462 - accuracy: 0.7326\n",
      "Epoch 23/100\n",
      "804/804 [==============================] - 1s 2ms/step - loss: 0.5459 - accuracy: 0.7336\n",
      "Epoch 24/100\n",
      "804/804 [==============================] - 1s 2ms/step - loss: 0.5459 - accuracy: 0.7341\n",
      "Epoch 25/100\n",
      "804/804 [==============================] - 1s 2ms/step - loss: 0.5459 - accuracy: 0.7338\n",
      "Epoch 26/100\n",
      "804/804 [==============================] - 1s 2ms/step - loss: 0.5456 - accuracy: 0.7347\n",
      "Epoch 27/100\n",
      "804/804 [==============================] - 1s 2ms/step - loss: 0.5453 - accuracy: 0.7326\n",
      "Epoch 28/100\n",
      "804/804 [==============================] - 1s 2ms/step - loss: 0.5451 - accuracy: 0.7334\n",
      "Epoch 29/100\n",
      "804/804 [==============================] - 1s 2ms/step - loss: 0.5452 - accuracy: 0.7336\n",
      "Epoch 30/100\n",
      "804/804 [==============================] - 1s 2ms/step - loss: 0.5456 - accuracy: 0.7338\n",
      "Epoch 31/100\n",
      "804/804 [==============================] - 1s 2ms/step - loss: 0.5449 - accuracy: 0.7350\n",
      "Epoch 32/100\n",
      "804/804 [==============================] - 1s 2ms/step - loss: 0.5451 - accuracy: 0.7338\n",
      "Epoch 33/100\n",
      "804/804 [==============================] - 1s 2ms/step - loss: 0.5447 - accuracy: 0.7345\n",
      "Epoch 34/100\n",
      "804/804 [==============================] - 1s 2ms/step - loss: 0.5450 - accuracy: 0.7333\n",
      "Epoch 35/100\n",
      "804/804 [==============================] - 1s 2ms/step - loss: 0.5446 - accuracy: 0.7338\n",
      "Epoch 36/100\n",
      "804/804 [==============================] - 1s 2ms/step - loss: 0.5450 - accuracy: 0.7338\n",
      "Epoch 37/100\n",
      "804/804 [==============================] - 1s 2ms/step - loss: 0.5445 - accuracy: 0.7345\n",
      "Epoch 38/100\n",
      "804/804 [==============================] - 1s 2ms/step - loss: 0.5448 - accuracy: 0.7343\n",
      "Epoch 39/100\n",
      "804/804 [==============================] - 1s 2ms/step - loss: 0.5446 - accuracy: 0.7357\n",
      "Epoch 40/100\n",
      "804/804 [==============================] - 1s 2ms/step - loss: 0.5443 - accuracy: 0.7339\n",
      "Epoch 41/100\n",
      "804/804 [==============================] - 1s 2ms/step - loss: 0.5449 - accuracy: 0.7338\n",
      "Epoch 42/100\n",
      "804/804 [==============================] - 1s 2ms/step - loss: 0.5442 - accuracy: 0.7347\n",
      "Epoch 43/100\n",
      "804/804 [==============================] - 1s 2ms/step - loss: 0.5443 - accuracy: 0.7344\n",
      "Epoch 44/100\n",
      "804/804 [==============================] - 1s 2ms/step - loss: 0.5444 - accuracy: 0.7343\n",
      "Epoch 45/100\n",
      "804/804 [==============================] - 1s 2ms/step - loss: 0.5443 - accuracy: 0.7359\n",
      "Epoch 46/100\n",
      "804/804 [==============================] - 1s 2ms/step - loss: 0.5443 - accuracy: 0.7346\n",
      "Epoch 47/100\n",
      "804/804 [==============================] - 1s 2ms/step - loss: 0.5443 - accuracy: 0.7340\n",
      "Epoch 48/100\n",
      "804/804 [==============================] - 1s 2ms/step - loss: 0.5442 - accuracy: 0.7353\n",
      "Epoch 49/100\n",
      "804/804 [==============================] - 1s 2ms/step - loss: 0.5440 - accuracy: 0.7352\n",
      "Epoch 50/100\n",
      "804/804 [==============================] - 1s 2ms/step - loss: 0.5438 - accuracy: 0.7364\n",
      "Epoch 51/100\n",
      "804/804 [==============================] - 1s 2ms/step - loss: 0.5439 - accuracy: 0.7341\n",
      "Epoch 52/100\n",
      "804/804 [==============================] - 1s 2ms/step - loss: 0.5437 - accuracy: 0.7349\n",
      "Epoch 53/100\n",
      "804/804 [==============================] - 3s 4ms/step - loss: 0.5442 - accuracy: 0.7353\n",
      "Epoch 54/100\n",
      "804/804 [==============================] - 3s 4ms/step - loss: 0.5440 - accuracy: 0.7345\n",
      "Epoch 55/100\n",
      "804/804 [==============================] - 3s 4ms/step - loss: 0.5437 - accuracy: 0.7355\n",
      "Epoch 56/100\n",
      "804/804 [==============================] - 3s 4ms/step - loss: 0.5437 - accuracy: 0.7344\n",
      "Epoch 57/100\n",
      "804/804 [==============================] - 3s 4ms/step - loss: 0.5439 - accuracy: 0.7345\n",
      "Epoch 58/100\n",
      "804/804 [==============================] - 3s 3ms/step - loss: 0.5438 - accuracy: 0.7348\n",
      "Epoch 59/100\n",
      "804/804 [==============================] - 3s 3ms/step - loss: 0.5436 - accuracy: 0.7354\n",
      "Epoch 60/100\n",
      "804/804 [==============================] - 3s 4ms/step - loss: 0.5436 - accuracy: 0.7363\n",
      "Epoch 61/100\n",
      "804/804 [==============================] - 4s 4ms/step - loss: 0.5434 - accuracy: 0.7348\n",
      "Epoch 62/100\n",
      "804/804 [==============================] - 4s 4ms/step - loss: 0.5435 - accuracy: 0.7345\n",
      "Epoch 63/100\n",
      "804/804 [==============================] - 4s 4ms/step - loss: 0.5434 - accuracy: 0.7360\n",
      "Epoch 64/100\n",
      "804/804 [==============================] - 3s 3ms/step - loss: 0.5432 - accuracy: 0.7357\n",
      "Epoch 65/100\n",
      "804/804 [==============================] - 2s 3ms/step - loss: 0.5437 - accuracy: 0.7350\n",
      "Epoch 66/100\n",
      "804/804 [==============================] - 2s 3ms/step - loss: 0.5431 - accuracy: 0.7367\n",
      "Epoch 67/100\n",
      "804/804 [==============================] - 2s 3ms/step - loss: 0.5435 - accuracy: 0.7359\n",
      "Epoch 68/100\n",
      "804/804 [==============================] - 2s 3ms/step - loss: 0.5430 - accuracy: 0.7341\n",
      "Epoch 69/100\n",
      "804/804 [==============================] - 3s 4ms/step - loss: 0.5432 - accuracy: 0.7361\n",
      "Epoch 70/100\n",
      "804/804 [==============================] - 3s 4ms/step - loss: 0.5432 - accuracy: 0.7353\n",
      "Epoch 71/100\n",
      "804/804 [==============================] - 3s 4ms/step - loss: 0.5429 - accuracy: 0.7358\n",
      "Epoch 72/100\n",
      "804/804 [==============================] - 3s 4ms/step - loss: 0.5429 - accuracy: 0.7358\n",
      "Epoch 73/100\n",
      "804/804 [==============================] - 4s 5ms/step - loss: 0.5431 - accuracy: 0.7347\n",
      "Epoch 74/100\n",
      "804/804 [==============================] - 3s 4ms/step - loss: 0.5429 - accuracy: 0.7368\n",
      "Epoch 75/100\n",
      "804/804 [==============================] - 3s 4ms/step - loss: 0.5430 - accuracy: 0.7352\n",
      "Epoch 76/100\n",
      "804/804 [==============================] - 3s 4ms/step - loss: 0.5429 - accuracy: 0.7366\n",
      "Epoch 77/100\n",
      "804/804 [==============================] - 3s 4ms/step - loss: 0.5430 - accuracy: 0.7351\n",
      "Epoch 78/100\n",
      "804/804 [==============================] - 3s 4ms/step - loss: 0.5427 - accuracy: 0.7355\n",
      "Epoch 79/100\n",
      "804/804 [==============================] - 3s 4ms/step - loss: 0.5427 - accuracy: 0.7355\n",
      "Epoch 80/100\n",
      "804/804 [==============================] - 3s 4ms/step - loss: 0.5424 - accuracy: 0.7351\n",
      "Epoch 81/100\n",
      "804/804 [==============================] - 3s 4ms/step - loss: 0.5425 - accuracy: 0.7356\n",
      "Epoch 82/100\n",
      "804/804 [==============================] - 3s 4ms/step - loss: 0.5424 - accuracy: 0.7364\n",
      "Epoch 83/100\n",
      "804/804 [==============================] - 3s 4ms/step - loss: 0.5427 - accuracy: 0.7365\n",
      "Epoch 84/100\n",
      "804/804 [==============================] - 3s 4ms/step - loss: 0.5423 - accuracy: 0.7353\n",
      "Epoch 85/100\n",
      "804/804 [==============================] - 3s 4ms/step - loss: 0.5423 - accuracy: 0.7369\n",
      "Epoch 86/100\n",
      "804/804 [==============================] - 3s 4ms/step - loss: 0.5424 - accuracy: 0.7364\n",
      "Epoch 87/100\n",
      "804/804 [==============================] - 3s 4ms/step - loss: 0.5424 - accuracy: 0.7352\n",
      "Epoch 88/100\n",
      "804/804 [==============================] - 3s 4ms/step - loss: 0.5424 - accuracy: 0.7367\n",
      "Epoch 89/100\n",
      "804/804 [==============================] - 3s 4ms/step - loss: 0.5421 - accuracy: 0.7367\n",
      "Epoch 90/100\n",
      "804/804 [==============================] - 3s 4ms/step - loss: 0.5421 - accuracy: 0.7374\n",
      "Epoch 91/100\n",
      "804/804 [==============================] - 3s 4ms/step - loss: 0.5425 - accuracy: 0.7354\n",
      "Epoch 92/100\n",
      "804/804 [==============================] - 3s 4ms/step - loss: 0.5420 - accuracy: 0.7371\n",
      "Epoch 93/100\n",
      "804/804 [==============================] - 3s 4ms/step - loss: 0.5419 - accuracy: 0.7357\n",
      "Epoch 94/100\n",
      "804/804 [==============================] - 3s 4ms/step - loss: 0.5424 - accuracy: 0.7362\n",
      "Epoch 95/100\n",
      "804/804 [==============================] - 3s 4ms/step - loss: 0.5421 - accuracy: 0.7360\n",
      "Epoch 96/100\n",
      "804/804 [==============================] - 3s 4ms/step - loss: 0.5419 - accuracy: 0.7365\n",
      "Epoch 97/100\n",
      "804/804 [==============================] - 3s 4ms/step - loss: 0.5421 - accuracy: 0.7363\n",
      "Epoch 98/100\n",
      "804/804 [==============================] - 3s 4ms/step - loss: 0.5417 - accuracy: 0.7358\n",
      "Epoch 99/100\n",
      "804/804 [==============================] - 3s 4ms/step - loss: 0.5421 - accuracy: 0.7345\n",
      "Epoch 100/100\n",
      "804/804 [==============================] - 3s 4ms/step - loss: 0.5419 - accuracy: 0.7365\n"
     ]
    }
   ],
   "source": [
    "# Train the model (SECOND ATTEMPT)\n",
    "fit_model = nn.fit(X_train_scaled,y_train,epochs=100)"
   ]
  },
  {
   "cell_type": "code",
   "execution_count": 21,
   "metadata": {
    "colab": {
     "base_uri": "https://localhost:8080/"
    },
    "executionInfo": {
     "elapsed": 947,
     "status": "ok",
     "timestamp": 1738297258214,
     "user": {
      "displayName": "prachi patel",
      "userId": "09080171170039159407"
     },
     "user_tz": 300
    },
    "id": "LN2TKImfRu41",
    "outputId": "61e6ffe5-4734-4352-bdeb-993ae32eafbb"
   },
   "outputs": [
    {
     "name": "stdout",
     "output_type": "stream",
     "text": [
      "268/268 - 1s - loss: 0.5548 - accuracy: 0.7248 - 785ms/epoch - 3ms/step\n",
      "Loss: 0.5547958016395569, Accuracy: 0.724781334400177\n"
     ]
    }
   ],
   "source": [
    "# Evaluate the model using the test data - SECOND ATTEMPT\n",
    "model_loss, model_accuracy = nn.evaluate(X_test_scaled,y_test,verbose=2)\n",
    "print(f\"Loss: {model_loss}, Accuracy: {model_accuracy}\")"
   ]
  },
  {
   "cell_type": "code",
   "execution_count": 32,
   "metadata": {
    "colab": {
     "base_uri": "https://localhost:8080/"
    },
    "executionInfo": {
     "elapsed": 78,
     "status": "ok",
     "timestamp": 1738297268192,
     "user": {
      "displayName": "prachi patel",
      "userId": "09080171170039159407"
     },
     "user_tz": 300
    },
    "id": "YlicGC-mRu1N",
    "outputId": "e71b0db5-95cd-429b-872c-dd8f2a9033b2"
   },
   "outputs": [],
   "source": [
    "# Export our model to HDF5 file - SECOND ATTEMPT\n",
    "# or other way to save filepath = r\"C:\\Users\\prachi\\Deep_Learning_Challenge\\deep-learning-challenge\\AlphabetSoupCharity_Optimization.h5\"\n",
    "#nn.save(filepath, save_format='h5')\n",
    "\n",
    "#  To Save a Tensorflow Model-- this is the code to do it:\n",
    "# Export our model to HDF5 file\n",
    "nn.save(\"alphabetsoupcharityOptimization2.h5\")\n",
    "\n"
   ]
  },
  {
   "cell_type": "code",
   "execution_count": 23,
   "metadata": {
    "colab": {
     "base_uri": "https://localhost:8080/",
     "height": 447
    },
    "executionInfo": {
     "elapsed": 289,
     "status": "ok",
     "timestamp": 1738297286189,
     "user": {
      "displayName": "prachi patel",
      "userId": "09080171170039159407"
     },
     "user_tz": 300
    },
    "id": "VFeZOtx7Ruwl",
    "outputId": "f79e4ec0-9420-4929-eadd-f36e781b5421"
   },
   "outputs": [
    {
     "data": {
      "text/plain": [
       "<Axes: >"
      ]
     },
     "execution_count": 23,
     "metadata": {},
     "output_type": "execute_result"
    },
    {
     "data": {
      "image/png": "[encoded data removed]",
      "text/plain": [
       "<Figure size 640x480 with 1 Axes>"
      ]
     },
     "metadata": {},
     "output_type": "display_data"
    }
   ],
   "source": [
    "# plotting the accuracy - SECOND ATTEMPT\n",
    "history_df = pd.DataFrame(fit_model.history, index = range(1, len(fit_model.history['loss'])+1))\n",
    "history_df.plot(y = 'accuracy')"
   ]
  },
  {
   "cell_type": "markdown",
   "metadata": {
    "id": "5x2j2Jhvcf2z"
   },
   "source": [
    "# THIRD ATTEMPT - adding a hidden layer\n",
    "\n",
    "layer1 = 12 : activation function = relu\n",
    "\n",
    "layer2 = 24 : activation function = relu\n",
    "\n",
    "layer3 = 36 : activation function = relu"
   ]
  },
  {
   "cell_type": "code",
   "execution_count": 24,
   "metadata": {
    "colab": {
     "base_uri": "https://localhost:8080/",
     "height": 312
    },
    "executionInfo": {
     "elapsed": 148,
     "status": "ok",
     "timestamp": 1738297293592,
     "user": {
      "displayName": "prachi patel",
      "userId": "09080171170039159407"
     },
     "user_tz": 300
    },
    "id": "KtZcFAuDVnR7",
    "outputId": "783267dc-cecd-4f30-937f-6184a68f4bd4"
   },
   "outputs": [
    {
     "name": "stdout",
     "output_type": "stream",
     "text": [
      "Model: \"sequential_2\"\n",
      "_________________________________________________________________\n",
      " Layer (type)                Output Shape              Param #   \n",
      "=================================================================\n",
      " dense_6 (Dense)             (None, 12)                528       \n",
      "                                                                 \n",
      " dense_7 (Dense)             (None, 24)                312       \n",
      "                                                                 \n",
      " dense_8 (Dense)             (None, 36)                900       \n",
      "                                                                 \n",
      " dense_9 (Dense)             (None, 1)                 37        \n",
      "                                                                 \n",
      "=================================================================\n",
      "Total params: 1,777\n",
      "Trainable params: 1,777\n",
      "Non-trainable params: 0\n",
      "_________________________________________________________________\n"
     ]
    }
   ],
   "source": [
    "# Define the model - deep neural net, i.e., the number of input features and hidden nodes for each layer. THIRD ATTEMPT\n",
    "number_input_features = len(X_train[0])\n",
    "hidden_nodes_layer1 =  12\n",
    "hidden_nodes_layer2 = 24\n",
    "hidden_nodes_layer3 = 36\n",
    "\n",
    "\n",
    "nn = tf.keras.models.Sequential()\n",
    "\n",
    "# First hidden layer\n",
    "nn.add(\n",
    "    tf.keras.layers.Dense(units=hidden_nodes_layer1, input_dim=number_input_features, activation=\"relu\")\n",
    ")\n",
    "\n",
    "# Second hidden layer\n",
    "nn.add(tf.keras.layers.Dense(units=hidden_nodes_layer2, activation=\"relu\"))\n",
    "\n",
    "# Third hidden layer\n",
    "nn.add(tf.keras.layers.Dense(units=hidden_nodes_layer3, activation=\"relu\"))\n",
    "\n",
    "# Output layer\n",
    "nn.add(tf.keras.layers.Dense(units=1, activation=\"sigmoid\"))\n",
    "\n",
    "# Check the structure of the model\n",
    "nn.summary()"
   ]
  },
  {
   "cell_type": "code",
   "execution_count": 25,
   "metadata": {
    "id": "BhpOy79dVnMx"
   },
   "outputs": [],
   "source": [
    "# Compile the model\n",
    "nn.compile(loss=\"binary_crossentropy\", optimizer=\"adam\", metrics=[\"accuracy\"])"
   ]
  },
  {
   "cell_type": "code",
   "execution_count": 26,
   "metadata": {
    "colab": {
     "base_uri": "https://localhost:8080/"
    },
    "executionInfo": {
     "elapsed": 307236,
     "status": "ok",
     "timestamp": 1738293667885,
     "user": {
      "displayName": "prachi patel",
      "userId": "09080171170039159407"
     },
     "user_tz": 300
    },
    "id": "SEf74oSBVnFz",
    "outputId": "126a9443-679e-4190-a592-1332f83acf74"
   },
   "outputs": [
    {
     "name": "stdout",
     "output_type": "stream",
     "text": [
      "Epoch 1/100\n",
      "804/804 [==============================] - 2s 2ms/step - loss: 0.5873 - accuracy: 0.7098\n",
      "Epoch 2/100\n",
      "804/804 [==============================] - 2s 2ms/step - loss: 0.5585 - accuracy: 0.7266\n",
      "Epoch 3/100\n",
      "804/804 [==============================] - 3s 4ms/step - loss: 0.5541 - accuracy: 0.7298\n",
      "Epoch 4/100\n",
      "804/804 [==============================] - 3s 4ms/step - loss: 0.5516 - accuracy: 0.7314\n",
      "Epoch 5/100\n",
      "804/804 [==============================] - 3s 4ms/step - loss: 0.5497 - accuracy: 0.7322\n",
      "Epoch 6/100\n",
      "804/804 [==============================] - 3s 4ms/step - loss: 0.5490 - accuracy: 0.7325\n",
      "Epoch 7/100\n",
      "804/804 [==============================] - 3s 4ms/step - loss: 0.5481 - accuracy: 0.7337\n",
      "Epoch 8/100\n",
      "804/804 [==============================] - 3s 4ms/step - loss: 0.5478 - accuracy: 0.7339\n",
      "Epoch 9/100\n",
      "804/804 [==============================] - 3s 4ms/step - loss: 0.5470 - accuracy: 0.7352\n",
      "Epoch 10/100\n",
      "804/804 [==============================] - 4s 5ms/step - loss: 0.5467 - accuracy: 0.7349\n",
      "Epoch 11/100\n",
      "804/804 [==============================] - 4s 5ms/step - loss: 0.5461 - accuracy: 0.7344\n",
      "Epoch 12/100\n",
      "804/804 [==============================] - 3s 3ms/step - loss: 0.5454 - accuracy: 0.7355\n",
      "Epoch 13/100\n",
      "804/804 [==============================] - 3s 3ms/step - loss: 0.5453 - accuracy: 0.7350\n",
      "Epoch 14/100\n",
      "804/804 [==============================] - 3s 3ms/step - loss: 0.5453 - accuracy: 0.7347\n",
      "Epoch 15/100\n",
      "804/804 [==============================] - 2s 3ms/step - loss: 0.5452 - accuracy: 0.7353\n",
      "Epoch 16/100\n",
      "804/804 [==============================] - 3s 4ms/step - loss: 0.5448 - accuracy: 0.7360\n",
      "Epoch 17/100\n",
      "804/804 [==============================] - 3s 4ms/step - loss: 0.5449 - accuracy: 0.7357\n",
      "Epoch 18/100\n",
      "804/804 [==============================] - 3s 4ms/step - loss: 0.5444 - accuracy: 0.7358\n",
      "Epoch 19/100\n",
      "804/804 [==============================] - 3s 4ms/step - loss: 0.5441 - accuracy: 0.7365\n",
      "Epoch 20/100\n",
      "804/804 [==============================] - 4s 6ms/step - loss: 0.5441 - accuracy: 0.7359\n",
      "Epoch 21/100\n",
      "804/804 [==============================] - 4s 4ms/step - loss: 0.5439 - accuracy: 0.7367\n",
      "Epoch 22/100\n",
      "804/804 [==============================] - 3s 3ms/step - loss: 0.5437 - accuracy: 0.7362\n",
      "Epoch 23/100\n",
      "804/804 [==============================] - 3s 3ms/step - loss: 0.5435 - accuracy: 0.7370\n",
      "Epoch 24/100\n",
      "804/804 [==============================] - 2s 3ms/step - loss: 0.5433 - accuracy: 0.7369\n",
      "Epoch 25/100\n",
      "804/804 [==============================] - 4s 5ms/step - loss: 0.5428 - accuracy: 0.7377\n",
      "Epoch 26/100\n",
      "804/804 [==============================] - 4s 5ms/step - loss: 0.5431 - accuracy: 0.7364\n",
      "Epoch 27/100\n",
      "804/804 [==============================] - 4s 5ms/step - loss: 0.5425 - accuracy: 0.7365\n",
      "Epoch 28/100\n",
      "804/804 [==============================] - 4s 4ms/step - loss: 0.5428 - accuracy: 0.7374\n",
      "Epoch 29/100\n",
      "804/804 [==============================] - 4s 4ms/step - loss: 0.5424 - accuracy: 0.7370\n",
      "Epoch 30/100\n",
      "804/804 [==============================] - 4s 4ms/step - loss: 0.5425 - accuracy: 0.7378\n",
      "Epoch 31/100\n",
      "804/804 [==============================] - 3s 4ms/step - loss: 0.5422 - accuracy: 0.7385\n",
      "Epoch 32/100\n",
      "804/804 [==============================] - 3s 4ms/step - loss: 0.5420 - accuracy: 0.7363\n",
      "Epoch 33/100\n",
      "804/804 [==============================] - 3s 4ms/step - loss: 0.5418 - accuracy: 0.7371\n",
      "Epoch 34/100\n",
      "804/804 [==============================] - 3s 4ms/step - loss: 0.5416 - accuracy: 0.7385\n",
      "Epoch 35/100\n",
      "804/804 [==============================] - 4s 4ms/step - loss: 0.5418 - accuracy: 0.7376\n",
      "Epoch 36/100\n",
      "804/804 [==============================] - 4s 5ms/step - loss: 0.5419 - accuracy: 0.7360\n",
      "Epoch 37/100\n",
      "804/804 [==============================] - 4s 5ms/step - loss: 0.5411 - accuracy: 0.7375\n",
      "Epoch 38/100\n",
      "804/804 [==============================] - 4s 5ms/step - loss: 0.5414 - accuracy: 0.7373\n",
      "Epoch 39/100\n",
      "804/804 [==============================] - 4s 5ms/step - loss: 0.5410 - accuracy: 0.7381\n",
      "Epoch 40/100\n",
      "804/804 [==============================] - 3s 4ms/step - loss: 0.5412 - accuracy: 0.7371\n",
      "Epoch 41/100\n",
      "804/804 [==============================] - 3s 4ms/step - loss: 0.5410 - accuracy: 0.7379\n",
      "Epoch 42/100\n",
      "804/804 [==============================] - 3s 4ms/step - loss: 0.5408 - accuracy: 0.7383\n",
      "Epoch 43/100\n",
      "804/804 [==============================] - 3s 4ms/step - loss: 0.5408 - accuracy: 0.7384\n",
      "Epoch 44/100\n",
      "804/804 [==============================] - 3s 4ms/step - loss: 0.5409 - accuracy: 0.7377\n",
      "Epoch 45/100\n",
      "804/804 [==============================] - 3s 4ms/step - loss: 0.5411 - accuracy: 0.7372\n",
      "Epoch 46/100\n",
      "804/804 [==============================] - 3s 4ms/step - loss: 0.5410 - accuracy: 0.7386\n",
      "Epoch 47/100\n",
      "804/804 [==============================] - 3s 4ms/step - loss: 0.5402 - accuracy: 0.7380\n",
      "Epoch 48/100\n",
      "804/804 [==============================] - 3s 4ms/step - loss: 0.5408 - accuracy: 0.7381\n",
      "Epoch 49/100\n",
      "804/804 [==============================] - 3s 4ms/step - loss: 0.5406 - accuracy: 0.7375\n",
      "Epoch 50/100\n",
      "804/804 [==============================] - 3s 4ms/step - loss: 0.5406 - accuracy: 0.7379\n",
      "Epoch 51/100\n",
      "804/804 [==============================] - 3s 4ms/step - loss: 0.5401 - accuracy: 0.7376\n",
      "Epoch 52/100\n",
      "804/804 [==============================] - 3s 4ms/step - loss: 0.5403 - accuracy: 0.7381\n",
      "Epoch 53/100\n",
      "804/804 [==============================] - 4s 4ms/step - loss: 0.5403 - accuracy: 0.7385\n",
      "Epoch 54/100\n",
      "804/804 [==============================] - 4s 4ms/step - loss: 0.5399 - accuracy: 0.7382\n",
      "Epoch 55/100\n",
      "804/804 [==============================] - 4s 5ms/step - loss: 0.5401 - accuracy: 0.7378\n",
      "Epoch 56/100\n",
      "804/804 [==============================] - 4s 6ms/step - loss: 0.5402 - accuracy: 0.7386\n",
      "Epoch 57/100\n",
      "804/804 [==============================] - 4s 4ms/step - loss: 0.5397 - accuracy: 0.7380\n",
      "Epoch 58/100\n",
      "804/804 [==============================] - 4s 4ms/step - loss: 0.5394 - accuracy: 0.7380\n",
      "Epoch 59/100\n",
      "804/804 [==============================] - 3s 4ms/step - loss: 0.5400 - accuracy: 0.7372\n",
      "Epoch 60/100\n",
      "804/804 [==============================] - 3s 4ms/step - loss: 0.5396 - accuracy: 0.7383\n",
      "Epoch 61/100\n",
      "804/804 [==============================] - 3s 4ms/step - loss: 0.5392 - accuracy: 0.7395\n",
      "Epoch 62/100\n",
      "804/804 [==============================] - 3s 3ms/step - loss: 0.5399 - accuracy: 0.7386\n",
      "Epoch 63/100\n",
      "804/804 [==============================] - 4s 4ms/step - loss: 0.5396 - accuracy: 0.7382\n",
      "Epoch 64/100\n",
      "804/804 [==============================] - 4s 5ms/step - loss: 0.5396 - accuracy: 0.7392\n",
      "Epoch 65/100\n",
      "804/804 [==============================] - 4s 5ms/step - loss: 0.5392 - accuracy: 0.7381\n",
      "Epoch 66/100\n",
      "804/804 [==============================] - 4s 5ms/step - loss: 0.5392 - accuracy: 0.7384\n",
      "Epoch 67/100\n",
      "804/804 [==============================] - 4s 5ms/step - loss: 0.5395 - accuracy: 0.7378\n",
      "Epoch 68/100\n",
      "804/804 [==============================] - 3s 3ms/step - loss: 0.5389 - accuracy: 0.7383\n",
      "Epoch 69/100\n",
      "804/804 [==============================] - 3s 3ms/step - loss: 0.5393 - accuracy: 0.7381\n",
      "Epoch 70/100\n",
      "804/804 [==============================] - 3s 3ms/step - loss: 0.5392 - accuracy: 0.7387\n",
      "Epoch 71/100\n",
      "804/804 [==============================] - 3s 4ms/step - loss: 0.5389 - accuracy: 0.7379\n",
      "Epoch 72/100\n",
      "804/804 [==============================] - 4s 5ms/step - loss: 0.5391 - accuracy: 0.7386\n",
      "Epoch 73/100\n",
      "804/804 [==============================] - 4s 5ms/step - loss: 0.5387 - accuracy: 0.7379\n",
      "Epoch 74/100\n",
      "804/804 [==============================] - 3s 4ms/step - loss: 0.5386 - accuracy: 0.7392\n",
      "Epoch 75/100\n",
      "804/804 [==============================] - 2s 3ms/step - loss: 0.5387 - accuracy: 0.7392\n",
      "Epoch 76/100\n",
      "804/804 [==============================] - 2s 3ms/step - loss: 0.5389 - accuracy: 0.7384\n",
      "Epoch 77/100\n",
      "804/804 [==============================] - 3s 3ms/step - loss: 0.5387 - accuracy: 0.7378\n",
      "Epoch 78/100\n",
      "804/804 [==============================] - 4s 5ms/step - loss: 0.5384 - accuracy: 0.7391\n",
      "Epoch 79/100\n",
      "804/804 [==============================] - 4s 5ms/step - loss: 0.5386 - accuracy: 0.7386\n",
      "Epoch 80/100\n",
      "804/804 [==============================] - 3s 4ms/step - loss: 0.5384 - accuracy: 0.7382\n",
      "Epoch 81/100\n",
      "804/804 [==============================] - 3s 4ms/step - loss: 0.5383 - accuracy: 0.7381\n",
      "Epoch 82/100\n",
      "804/804 [==============================] - 3s 4ms/step - loss: 0.5385 - accuracy: 0.7380\n",
      "Epoch 83/100\n",
      "804/804 [==============================] - 3s 4ms/step - loss: 0.5384 - accuracy: 0.7393\n",
      "Epoch 84/100\n",
      "804/804 [==============================] - 3s 4ms/step - loss: 0.5388 - accuracy: 0.7387\n",
      "Epoch 85/100\n",
      "804/804 [==============================] - 3s 4ms/step - loss: 0.5385 - accuracy: 0.7382\n",
      "Epoch 86/100\n",
      "804/804 [==============================] - 4s 4ms/step - loss: 0.5380 - accuracy: 0.7391\n",
      "Epoch 87/100\n",
      "804/804 [==============================] - 4s 4ms/step - loss: 0.5382 - accuracy: 0.7394\n",
      "Epoch 88/100\n",
      "804/804 [==============================] - 4s 5ms/step - loss: 0.5380 - accuracy: 0.7395\n",
      "Epoch 89/100\n",
      "804/804 [==============================] - 4s 4ms/step - loss: 0.5381 - accuracy: 0.7384\n",
      "Epoch 90/100\n",
      "804/804 [==============================] - 4s 5ms/step - loss: 0.5381 - accuracy: 0.7392\n",
      "Epoch 91/100\n",
      "804/804 [==============================] - 5s 6ms/step - loss: 0.5380 - accuracy: 0.7380\n",
      "Epoch 92/100\n",
      "804/804 [==============================] - 3s 3ms/step - loss: 0.5380 - accuracy: 0.7388\n",
      "Epoch 93/100\n",
      "804/804 [==============================] - 3s 4ms/step - loss: 0.5379 - accuracy: 0.7397\n",
      "Epoch 94/100\n",
      "804/804 [==============================] - 3s 4ms/step - loss: 0.5379 - accuracy: 0.7395\n",
      "Epoch 95/100\n",
      "804/804 [==============================] - 3s 4ms/step - loss: 0.5377 - accuracy: 0.7393\n",
      "Epoch 96/100\n",
      "804/804 [==============================] - 4s 4ms/step - loss: 0.5378 - accuracy: 0.7385\n",
      "Epoch 97/100\n",
      "804/804 [==============================] - 4s 5ms/step - loss: 0.5376 - accuracy: 0.7398\n",
      "Epoch 98/100\n",
      "804/804 [==============================] - 4s 5ms/step - loss: 0.5379 - accuracy: 0.7388\n",
      "Epoch 99/100\n",
      "804/804 [==============================] - 3s 4ms/step - loss: 0.5375 - accuracy: 0.7385\n",
      "Epoch 100/100\n",
      "804/804 [==============================] - 3s 4ms/step - loss: 0.5375 - accuracy: 0.7399\n"
     ]
    }
   ],
   "source": [
    "# Train the model (THIRD ATTEMPT)\n",
    "fit_model = nn.fit(X_train_scaled,y_train,epochs=100)"
   ]
  },
  {
   "cell_type": "code",
   "execution_count": 27,
   "metadata": {
    "colab": {
     "base_uri": "https://localhost:8080/"
    },
    "executionInfo": {
     "elapsed": 975,
     "status": "ok",
     "timestamp": 1738293696485,
     "user": {
      "displayName": "prachi patel",
      "userId": "09080171170039159407"
     },
     "user_tz": 300
    },
    "id": "V8ZOTPWZVm-n",
    "outputId": "e33e59cf-a51a-4531-c25b-db33fe541e56"
   },
   "outputs": [
    {
     "name": "stdout",
     "output_type": "stream",
     "text": [
      "268/268 - 1s - loss: 0.5535 - accuracy: 0.7256 - 978ms/epoch - 4ms/step\n",
      "Loss: 0.5535320043563843, Accuracy: 0.7255976796150208\n"
     ]
    }
   ],
   "source": [
    "# Evaluate the model using the test data - THIRD ATTEMPT\n",
    "model_loss, model_accuracy = nn.evaluate(X_test_scaled,y_test,verbose=2)\n",
    "print(f\"Loss: {model_loss}, Accuracy: {model_accuracy}\")"
   ]
  },
  {
   "cell_type": "code",
   "execution_count": 33,
   "metadata": {},
   "outputs": [],
   "source": [
    "#  To Save a Tensorflow Model-- this is the code to do it:\n",
    "# Export our model to HDF5 file - THIRD ATTEMPT\n",
    "nn.save(\"alphabetsoupcharityOptimization3.h5\")"
   ]
  },
  {
   "cell_type": "code",
   "execution_count": 28,
   "metadata": {
    "colab": {
     "base_uri": "https://localhost:8080/",
     "height": 447
    },
    "executionInfo": {
     "elapsed": 298,
     "status": "ok",
     "timestamp": 1738293703870,
     "user": {
      "displayName": "prachi patel",
      "userId": "09080171170039159407"
     },
     "user_tz": 300
    },
    "id": "oIg89gNHVm3L",
    "outputId": "f7d39079-1ca0-464d-be66-f30a2ea02310"
   },
   "outputs": [
    {
     "data": {
      "text/plain": [
       "<Axes: >"
      ]
     },
     "execution_count": 28,
     "metadata": {},
     "output_type": "execute_result"
    },
    {
     "data": {
      "image/png": "[encoded data removed]",
      "text/plain": [
       "<Figure size 640x480 with 1 Axes>"
      ]
     },
     "metadata": {},
     "output_type": "display_data"
    }
   ],
   "source": [
    "# plotting the accuracy - THIRD ATTEMPT\n",
    "history_df = pd.DataFrame(fit_model.history, index = range(1, len(fit_model.history['loss'])+1))\n",
    "history_df.plot(y = 'accuracy')"
   ]
  },
  {
   "cell_type": "code",
   "execution_count": null,
   "metadata": {},
   "outputs": [],
   "source": []
  },
  {
   "cell_type": "markdown",
   "metadata": {
    "id": "IusC0KRYZ0Kv"
   },
   "source": [
    "#RESULTS:\n",
    "\n",
    "APPLICATION_TYPE cutoff = 600\n",
    "\n",
    "CLASSIFICATION cutoff = 300\n",
    "\n",
    "#ATTEMPT FIRST :\n",
    "layer1 = 8 : activation function = relu\n",
    "\n",
    "layer2 = 5 : activation function = relu\n",
    "\n",
    "Loss: 0.55, Accuracy: 0.72\n",
    "\n",
    "A loss value of 55 indicates that the model can be further optimized.\n",
    "\n",
    "#ATTEMPT SECOND :\n",
    "layer1 = 9 : activation function = relu\n",
    "\n",
    "layer2 = 18 : activation function = relu\n",
    "\n",
    "Loss: 0.553, Accuracy: 0.727\n",
    "\n",
    "A loss value of 55 indicates that the model can be further optimized.\n",
    "\n",
    "#ATTEMPT THIRD :\n",
    "layer1 = 12 : activation function = relu\n",
    "\n",
    "layer2 = 24 : activation function = relu\n",
    "\n",
    "layer3 = 36 : activation function = relu\n",
    "\n",
    "Loss: 0.553, Accuracy: 0.727\n",
    "\n",
    "The accuracy percent shows that 72% of the model's predicted values align with the true values in the original dataset.\n",
    "\n",
    "The model was required to achieve a target predicted accureacy higher than 75%. I did three attempts using different neural networks. they all resulted in the same accuracy rate - around 72%, a little short of the required target accuracy.\n"
   ]
  }
 ],
 "metadata": {
  "colab": {
   "provenance": []
  },
  "kernelspec": {
   "display_name": "dev",
   "language": "python",
   "name": "python3"
  },
  "language_info": {
   "codemirror_mode": {
    "name": "ipython",
    "version": 3
   },
   "file_extension": ".py",
   "mimetype": "text/x-python",
   "name": "python",
   "nbconvert_exporter": "python",
   "pygments_lexer": "ipython3",
   "version": "3.10.13"
  }
 },
 "nbformat": 4,
 "nbformat_minor": 0
}
